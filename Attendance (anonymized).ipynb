{
 "cells": [
  {
   "cell_type": "code",
   "execution_count": 142,
   "id": "27830604",
   "metadata": {},
   "outputs": [],
   "source": [
    "import math\n",
    "import pandas as pd\n",
    "import matplotlib.pyplot as plt\n",
    "import numpy as np\n",
    "from datetime import datetime\n",
    "from datetime import timedelta\n",
    "import itertools\n",
    "from sklearn.linear_model import LinearRegression \n",
    "from scipy.stats import t"
   ]
  },
  {
   "cell_type": "markdown",
   "id": "e7091bb6",
   "metadata": {},
   "source": [
    "First thing's first, import the Attendance Register file into a dataframe. "
   ]
  },
  {
   "cell_type": "code",
   "execution_count": 16,
   "id": "2de72ac4",
   "metadata": {},
   "outputs": [],
   "source": [
    "attendance=pd.read_csv(\"Attendance Register.csv\")"
   ]
  },
  {
   "cell_type": "markdown",
   "id": "1c76fadd",
   "metadata": {},
   "source": [
    "The first two columns of the dataframe are student id and name. Since I am only concerned with overall attendance trends in my class, I'm going to annonymize the data and drop both of these columns. Before doing that, they will be a bit helpful in cleaning the data so we should name them firt. Then I'm going to drop all the rows where the name is null since those rows are either course id's or a key for understanding the \"U, A, E\" monickers in the date columns. "
   ]
  },
  {
   "cell_type": "code",
   "execution_count": 17,
   "id": "0a67dd7f",
   "metadata": {},
   "outputs": [],
   "source": [
    "attendance=attendance.rename(columns={'Unnamed: 0' : 'id', 'Unnamed: 1': \"Name\"})"
   ]
  },
  {
   "cell_type": "code",
   "execution_count": 18,
   "id": "f4b0d490",
   "metadata": {},
   "outputs": [],
   "source": [
    "attendance=attendance.drop(attendance[attendance.Name.isna()].index)"
   ]
  },
  {
   "cell_type": "code",
   "execution_count": 19,
   "id": "4c86f7bc",
   "metadata": {},
   "outputs": [],
   "source": [
    "attendance=attendance.drop(columns=[\"id\", \"Name\"])"
   ]
  },
  {
   "cell_type": "markdown",
   "id": "33bb7171",
   "metadata": {},
   "source": [
    "Just double checking things, but now (aside from the instance of \"Student #\", which we will change next), the only thing I have is attendance data for students in my roster."
   ]
  },
  {
   "cell_type": "code",
   "execution_count": 20,
   "id": "138f8b8e",
   "metadata": {},
   "outputs": [
    {
     "data": {
      "text/html": [
       "<div>\n",
       "<style scoped>\n",
       "    .dataframe tbody tr th:only-of-type {\n",
       "        vertical-align: middle;\n",
       "    }\n",
       "\n",
       "    .dataframe tbody tr th {\n",
       "        vertical-align: top;\n",
       "    }\n",
       "\n",
       "    .dataframe thead th {\n",
       "        text-align: right;\n",
       "    }\n",
       "</style>\n",
       "<table border=\"1\" class=\"dataframe\">\n",
       "  <thead>\n",
       "    <tr style=\"text-align: right;\">\n",
       "      <th></th>\n",
       "      <th>08/17/23</th>\n",
       "      <th>08/18/23</th>\n",
       "      <th>08/19/23</th>\n",
       "      <th>08/20/23</th>\n",
       "      <th>08/21/23</th>\n",
       "      <th>08/22/23</th>\n",
       "      <th>08/23/23</th>\n",
       "      <th>08/24/23</th>\n",
       "      <th>08/25/23</th>\n",
       "      <th>08/26/23</th>\n",
       "      <th>...</th>\n",
       "      <th>01/04/24</th>\n",
       "      <th>01/05/24</th>\n",
       "      <th>01/06/24</th>\n",
       "      <th>01/07/24</th>\n",
       "      <th>01/08/24</th>\n",
       "      <th>01/09/24</th>\n",
       "      <th>01/10/24</th>\n",
       "      <th>01/11/24</th>\n",
       "      <th>01/12/24</th>\n",
       "      <th>Unnamed: 151</th>\n",
       "    </tr>\n",
       "  </thead>\n",
       "  <tbody>\n",
       "    <tr>\n",
       "      <th>0</th>\n",
       "      <td>Thu</td>\n",
       "      <td>Fri</td>\n",
       "      <td>Sat</td>\n",
       "      <td>Sun</td>\n",
       "      <td>Mon</td>\n",
       "      <td>Tue</td>\n",
       "      <td>Wed</td>\n",
       "      <td>Thu</td>\n",
       "      <td>Fri</td>\n",
       "      <td>Sat</td>\n",
       "      <td>...</td>\n",
       "      <td>Thu</td>\n",
       "      <td>Fri</td>\n",
       "      <td>Sat</td>\n",
       "      <td>Sun</td>\n",
       "      <td>Mon</td>\n",
       "      <td>Tue</td>\n",
       "      <td>Wed</td>\n",
       "      <td>Thu</td>\n",
       "      <td>Fri</td>\n",
       "      <td>NaN</td>\n",
       "    </tr>\n",
       "    <tr>\n",
       "      <th>2</th>\n",
       "      <td>NaN</td>\n",
       "      <td>NaN</td>\n",
       "      <td>NaN</td>\n",
       "      <td>NaN</td>\n",
       "      <td>NaN</td>\n",
       "      <td>NaN</td>\n",
       "      <td>NaN</td>\n",
       "      <td>NaN</td>\n",
       "      <td>NaN</td>\n",
       "      <td>NaN</td>\n",
       "      <td>...</td>\n",
       "      <td>NaN</td>\n",
       "      <td>NaN</td>\n",
       "      <td>NaN</td>\n",
       "      <td>NaN</td>\n",
       "      <td>NaN</td>\n",
       "      <td>U</td>\n",
       "      <td>NaN</td>\n",
       "      <td>NaN</td>\n",
       "      <td>NaN</td>\n",
       "      <td>NaN</td>\n",
       "    </tr>\n",
       "    <tr>\n",
       "      <th>3</th>\n",
       "      <td>U</td>\n",
       "      <td>NaN</td>\n",
       "      <td>NaN</td>\n",
       "      <td>NaN</td>\n",
       "      <td>NaN</td>\n",
       "      <td>NaN</td>\n",
       "      <td>NaN</td>\n",
       "      <td>NaN</td>\n",
       "      <td>NaN</td>\n",
       "      <td>NaN</td>\n",
       "      <td>...</td>\n",
       "      <td>NaN</td>\n",
       "      <td>U</td>\n",
       "      <td>NaN</td>\n",
       "      <td>NaN</td>\n",
       "      <td>NaN</td>\n",
       "      <td>A</td>\n",
       "      <td>NaN</td>\n",
       "      <td>U</td>\n",
       "      <td>NaN</td>\n",
       "      <td>NaN</td>\n",
       "    </tr>\n",
       "    <tr>\n",
       "      <th>4</th>\n",
       "      <td>NaN</td>\n",
       "      <td>NaN</td>\n",
       "      <td>NaN</td>\n",
       "      <td>NaN</td>\n",
       "      <td>NaN</td>\n",
       "      <td>NaN</td>\n",
       "      <td>NaN</td>\n",
       "      <td>NaN</td>\n",
       "      <td>NaN</td>\n",
       "      <td>NaN</td>\n",
       "      <td>...</td>\n",
       "      <td>NaN</td>\n",
       "      <td>NaN</td>\n",
       "      <td>NaN</td>\n",
       "      <td>NaN</td>\n",
       "      <td>NaN</td>\n",
       "      <td>NaN</td>\n",
       "      <td>NaN</td>\n",
       "      <td>NaN</td>\n",
       "      <td>NaN</td>\n",
       "      <td>NaN</td>\n",
       "    </tr>\n",
       "    <tr>\n",
       "      <th>5</th>\n",
       "      <td>NaN</td>\n",
       "      <td>NaN</td>\n",
       "      <td>NaN</td>\n",
       "      <td>NaN</td>\n",
       "      <td>NaN</td>\n",
       "      <td>NaN</td>\n",
       "      <td>NaN</td>\n",
       "      <td>NaN</td>\n",
       "      <td>NaN</td>\n",
       "      <td>NaN</td>\n",
       "      <td>...</td>\n",
       "      <td>NaN</td>\n",
       "      <td>NaN</td>\n",
       "      <td>NaN</td>\n",
       "      <td>NaN</td>\n",
       "      <td>NaN</td>\n",
       "      <td>NaN</td>\n",
       "      <td>NaN</td>\n",
       "      <td>NaN</td>\n",
       "      <td>NaN</td>\n",
       "      <td>NaN</td>\n",
       "    </tr>\n",
       "  </tbody>\n",
       "</table>\n",
       "<p>5 rows × 150 columns</p>\n",
       "</div>"
      ],
      "text/plain": [
       "  08/17/23 08/18/23 08/19/23 08/20/23 08/21/23 08/22/23 08/23/23 08/24/23  \\\n",
       "0      Thu      Fri      Sat      Sun      Mon      Tue      Wed      Thu   \n",
       "2      NaN      NaN      NaN      NaN      NaN      NaN      NaN      NaN   \n",
       "3        U      NaN      NaN      NaN      NaN      NaN      NaN      NaN   \n",
       "4      NaN      NaN      NaN      NaN      NaN      NaN      NaN      NaN   \n",
       "5      NaN      NaN      NaN      NaN      NaN      NaN      NaN      NaN   \n",
       "\n",
       "  08/25/23 08/26/23  ... 01/04/24 01/05/24 01/06/24 01/07/24 01/08/24  \\\n",
       "0      Fri      Sat  ...      Thu      Fri      Sat      Sun      Mon   \n",
       "2      NaN      NaN  ...      NaN      NaN      NaN      NaN      NaN   \n",
       "3      NaN      NaN  ...      NaN        U      NaN      NaN      NaN   \n",
       "4      NaN      NaN  ...      NaN      NaN      NaN      NaN      NaN   \n",
       "5      NaN      NaN  ...      NaN      NaN      NaN      NaN      NaN   \n",
       "\n",
       "  01/09/24 01/10/24 01/11/24 01/12/24 Unnamed: 151  \n",
       "0      Tue      Wed      Thu      Fri          NaN  \n",
       "2        U      NaN      NaN      NaN          NaN  \n",
       "3        A      NaN        U      NaN          NaN  \n",
       "4      NaN      NaN      NaN      NaN          NaN  \n",
       "5      NaN      NaN      NaN      NaN          NaN  \n",
       "\n",
       "[5 rows x 150 columns]"
      ]
     },
     "execution_count": 20,
     "metadata": {},
     "output_type": "execute_result"
    }
   ],
   "source": [
    "attendance.head()"
   ]
  },
  {
   "cell_type": "code",
   "execution_count": 21,
   "id": "32ed2bf9",
   "metadata": {},
   "outputs": [
    {
     "data": {
      "text/plain": [
       "Index(['08/17/23', '08/18/23', '08/19/23', '08/20/23', '08/21/23', '08/22/23',\n",
       "       '08/23/23', '08/24/23', '08/25/23', '08/26/23',\n",
       "       ...\n",
       "       '01/04/24', '01/05/24', '01/06/24', '01/07/24', '01/08/24', '01/09/24',\n",
       "       '01/10/24', '01/11/24', '01/12/24', 'Unnamed: 151'],\n",
       "      dtype='object', length=150)"
      ]
     },
     "execution_count": 21,
     "metadata": {},
     "output_type": "execute_result"
    }
   ],
   "source": [
    "attendance.columns"
   ]
  },
  {
   "cell_type": "markdown",
   "id": "9f5f5e31",
   "metadata": {},
   "source": [
    "There is another column at the end that I missed that is also unnamed. I'm going to renname it to 'unknown' so I can separately access it, and check if it contains anything"
   ]
  },
  {
   "cell_type": "code",
   "execution_count": 22,
   "id": "34caed55",
   "metadata": {},
   "outputs": [],
   "source": [
    "attendance=attendance.rename(columns={'Unnamed: 151': 'unknown'})"
   ]
  },
  {
   "cell_type": "code",
   "execution_count": 23,
   "id": "84a7e729",
   "metadata": {},
   "outputs": [
    {
     "data": {
      "text/plain": [
       "0     NaN\n",
       "2     NaN\n",
       "3     NaN\n",
       "4     NaN\n",
       "5     NaN\n",
       "       ..\n",
       "131   NaN\n",
       "132   NaN\n",
       "133   NaN\n",
       "134   NaN\n",
       "135   NaN\n",
       "Name: unknown, Length: 129, dtype: float64"
      ]
     },
     "execution_count": 23,
     "metadata": {},
     "output_type": "execute_result"
    }
   ],
   "source": [
    "attendance.unknown"
   ]
  },
  {
   "cell_type": "markdown",
   "id": "1e20609e",
   "metadata": {},
   "source": [
    "This looks like a lot of NaN's, but I want to make sure so let's do a quick count."
   ]
  },
  {
   "cell_type": "code",
   "execution_count": 24,
   "id": "bba63339",
   "metadata": {},
   "outputs": [
    {
     "data": {
      "text/plain": [
       "0"
      ]
     },
     "execution_count": 24,
     "metadata": {},
     "output_type": "execute_result"
    }
   ],
   "source": [
    "attendance.unknown.count()"
   ]
  },
  {
   "cell_type": "markdown",
   "id": "2782eaf8",
   "metadata": {},
   "source": [
    "So basically everything in here is NaN. This may be because this column had information regarding the class code or the absence key, but that's not important for what I'm doing. In any case, it's safe to just drop thie column."
   ]
  },
  {
   "cell_type": "code",
   "execution_count": 25,
   "id": "4b6f7107",
   "metadata": {},
   "outputs": [],
   "source": [
    "attendance=attendance.drop(columns=['unknown'])"
   ]
  },
  {
   "cell_type": "markdown",
   "id": "d5f6df05",
   "metadata": {},
   "source": [
    "Speaking of, the attendance dataframe uses 'U' for an unexcused absence, 'A' for an excused absence, 'X' for an exempt absence, and '-' for \"not on roster on this date\". The NaN values are recorded when the student is present. Because I don't want to factors students not on my roster in various computations, it'll be easier to replace the existing NaN values with \"P\" for present and the '-' values with NaN."
   ]
  },
  {
   "cell_type": "code",
   "execution_count": 26,
   "id": "9a99b590",
   "metadata": {},
   "outputs": [
    {
     "data": {
      "text/plain": [
       "P      118\n",
       "Sat      1\n",
       "Name: 08/19/23, dtype: int64"
      ]
     },
     "execution_count": 26,
     "metadata": {},
     "output_type": "execute_result"
    }
   ],
   "source": [
    "attendance=attendance.fillna('P')\n",
    "attendance=attendance.replace('-', np.NaN)\n",
    "attendance['08/19/23'].value_counts()"
   ]
  },
  {
   "cell_type": "markdown",
   "id": "9bee9fc2",
   "metadata": {},
   "source": [
    "Just checking here to see what 8/19 looks like, it turns out that this attendance register also recorded weekends and (I presume) holidays. So the next thing is to drop those columns from the dataframe since no one is expecting students to show up on those days."
   ]
  },
  {
   "cell_type": "code",
   "execution_count": 27,
   "id": "31ac9a09",
   "metadata": {},
   "outputs": [],
   "source": [
    "#Gathering up all of the weekends to drop them from the dataframe\n",
    "date_list=list(attendance.columns)\n",
    "weekends=[]\n",
    "for date in date_list:\n",
    "    if attendance[date][0] in ['Sat', 'Sun']:\n",
    "        weekends.append(date)\n",
    "#Drop all weekends in place\n",
    "attendance.drop(columns=weekends, inplace=True)"
   ]
  },
  {
   "cell_type": "markdown",
   "id": "6615c214",
   "metadata": {},
   "source": [
    "Now we need to drop other days that students were not expected to show. I was just lazy with this and recorded these dates directly from the school calendar."
   ]
  },
  {
   "cell_type": "code",
   "execution_count": 28,
   "id": "98b21a12",
   "metadata": {},
   "outputs": [],
   "source": [
    "breaks=[\"09/04/23\", '10/20/23', '10/24/23', '11/22/23', '11/23/23', '11/24/23', '11/27/23', '12/05/23']"
   ]
  },
  {
   "cell_type": "code",
   "execution_count": 29,
   "id": "fc0f70c0",
   "metadata": {},
   "outputs": [],
   "source": [
    "breaks.append('12/21/23')\n",
    "breaks.append('12/22/23')\n",
    "breaks.append('12/25/23')\n",
    "breaks.append('12/26/23')\n",
    "breaks.append('12/27/23')\n",
    "breaks.append('12/28/23')\n",
    "breaks.append('12/29/23')\n",
    "breaks.append('01/01/24')\n",
    "breaks.append('01/02/24')"
   ]
  },
  {
   "cell_type": "code",
   "execution_count": 30,
   "id": "59a3a261",
   "metadata": {},
   "outputs": [],
   "source": [
    "#Drop all breaks\n",
    "attendance.drop(columns=breaks, inplace=True)"
   ]
  },
  {
   "cell_type": "code",
   "execution_count": 31,
   "id": "45686158",
   "metadata": {},
   "outputs": [
    {
     "data": {
      "text/html": [
       "<div>\n",
       "<style scoped>\n",
       "    .dataframe tbody tr th:only-of-type {\n",
       "        vertical-align: middle;\n",
       "    }\n",
       "\n",
       "    .dataframe tbody tr th {\n",
       "        vertical-align: top;\n",
       "    }\n",
       "\n",
       "    .dataframe thead th {\n",
       "        text-align: right;\n",
       "    }\n",
       "</style>\n",
       "<table border=\"1\" class=\"dataframe\">\n",
       "  <thead>\n",
       "    <tr style=\"text-align: right;\">\n",
       "      <th></th>\n",
       "      <th>08/17/23</th>\n",
       "      <th>08/18/23</th>\n",
       "      <th>08/21/23</th>\n",
       "      <th>08/22/23</th>\n",
       "      <th>08/23/23</th>\n",
       "      <th>08/24/23</th>\n",
       "      <th>08/25/23</th>\n",
       "      <th>08/28/23</th>\n",
       "      <th>08/29/23</th>\n",
       "      <th>08/30/23</th>\n",
       "      <th>...</th>\n",
       "      <th>12/19/23</th>\n",
       "      <th>12/20/23</th>\n",
       "      <th>01/03/24</th>\n",
       "      <th>01/04/24</th>\n",
       "      <th>01/05/24</th>\n",
       "      <th>01/08/24</th>\n",
       "      <th>01/09/24</th>\n",
       "      <th>01/10/24</th>\n",
       "      <th>01/11/24</th>\n",
       "      <th>01/12/24</th>\n",
       "    </tr>\n",
       "  </thead>\n",
       "  <tbody>\n",
       "    <tr>\n",
       "      <th>0</th>\n",
       "      <td>Thu</td>\n",
       "      <td>Fri</td>\n",
       "      <td>Mon</td>\n",
       "      <td>Tue</td>\n",
       "      <td>Wed</td>\n",
       "      <td>Thu</td>\n",
       "      <td>Fri</td>\n",
       "      <td>Mon</td>\n",
       "      <td>Tue</td>\n",
       "      <td>Wed</td>\n",
       "      <td>...</td>\n",
       "      <td>Tue</td>\n",
       "      <td>Wed</td>\n",
       "      <td>Wed</td>\n",
       "      <td>Thu</td>\n",
       "      <td>Fri</td>\n",
       "      <td>Mon</td>\n",
       "      <td>Tue</td>\n",
       "      <td>Wed</td>\n",
       "      <td>Thu</td>\n",
       "      <td>Fri</td>\n",
       "    </tr>\n",
       "    <tr>\n",
       "      <th>2</th>\n",
       "      <td>P</td>\n",
       "      <td>P</td>\n",
       "      <td>P</td>\n",
       "      <td>P</td>\n",
       "      <td>P</td>\n",
       "      <td>P</td>\n",
       "      <td>P</td>\n",
       "      <td>P</td>\n",
       "      <td>P</td>\n",
       "      <td>P</td>\n",
       "      <td>...</td>\n",
       "      <td>P</td>\n",
       "      <td>P</td>\n",
       "      <td>P</td>\n",
       "      <td>P</td>\n",
       "      <td>P</td>\n",
       "      <td>P</td>\n",
       "      <td>U</td>\n",
       "      <td>P</td>\n",
       "      <td>P</td>\n",
       "      <td>P</td>\n",
       "    </tr>\n",
       "    <tr>\n",
       "      <th>3</th>\n",
       "      <td>U</td>\n",
       "      <td>P</td>\n",
       "      <td>P</td>\n",
       "      <td>P</td>\n",
       "      <td>P</td>\n",
       "      <td>P</td>\n",
       "      <td>P</td>\n",
       "      <td>P</td>\n",
       "      <td>P</td>\n",
       "      <td>P</td>\n",
       "      <td>...</td>\n",
       "      <td>X</td>\n",
       "      <td>P</td>\n",
       "      <td>P</td>\n",
       "      <td>P</td>\n",
       "      <td>U</td>\n",
       "      <td>P</td>\n",
       "      <td>A</td>\n",
       "      <td>P</td>\n",
       "      <td>U</td>\n",
       "      <td>P</td>\n",
       "    </tr>\n",
       "    <tr>\n",
       "      <th>4</th>\n",
       "      <td>P</td>\n",
       "      <td>P</td>\n",
       "      <td>P</td>\n",
       "      <td>P</td>\n",
       "      <td>P</td>\n",
       "      <td>P</td>\n",
       "      <td>P</td>\n",
       "      <td>P</td>\n",
       "      <td>P</td>\n",
       "      <td>P</td>\n",
       "      <td>...</td>\n",
       "      <td>P</td>\n",
       "      <td>U</td>\n",
       "      <td>P</td>\n",
       "      <td>P</td>\n",
       "      <td>P</td>\n",
       "      <td>P</td>\n",
       "      <td>P</td>\n",
       "      <td>P</td>\n",
       "      <td>P</td>\n",
       "      <td>P</td>\n",
       "    </tr>\n",
       "    <tr>\n",
       "      <th>5</th>\n",
       "      <td>P</td>\n",
       "      <td>P</td>\n",
       "      <td>P</td>\n",
       "      <td>P</td>\n",
       "      <td>P</td>\n",
       "      <td>P</td>\n",
       "      <td>P</td>\n",
       "      <td>P</td>\n",
       "      <td>P</td>\n",
       "      <td>P</td>\n",
       "      <td>...</td>\n",
       "      <td>X</td>\n",
       "      <td>P</td>\n",
       "      <td>P</td>\n",
       "      <td>P</td>\n",
       "      <td>P</td>\n",
       "      <td>P</td>\n",
       "      <td>P</td>\n",
       "      <td>P</td>\n",
       "      <td>P</td>\n",
       "      <td>P</td>\n",
       "    </tr>\n",
       "  </tbody>\n",
       "</table>\n",
       "<p>5 rows × 90 columns</p>\n",
       "</div>"
      ],
      "text/plain": [
       "  08/17/23 08/18/23 08/21/23 08/22/23 08/23/23 08/24/23 08/25/23 08/28/23  \\\n",
       "0      Thu      Fri      Mon      Tue      Wed      Thu      Fri      Mon   \n",
       "2        P        P        P        P        P        P        P        P   \n",
       "3        U        P        P        P        P        P        P        P   \n",
       "4        P        P        P        P        P        P        P        P   \n",
       "5        P        P        P        P        P        P        P        P   \n",
       "\n",
       "  08/29/23 08/30/23  ... 12/19/23 12/20/23 01/03/24 01/04/24 01/05/24  \\\n",
       "0      Tue      Wed  ...      Tue      Wed      Wed      Thu      Fri   \n",
       "2        P        P  ...        P        P        P        P        P   \n",
       "3        P        P  ...        X        P        P        P        U   \n",
       "4        P        P  ...        P        U        P        P        P   \n",
       "5        P        P  ...        X        P        P        P        P   \n",
       "\n",
       "  01/08/24 01/09/24 01/10/24 01/11/24 01/12/24  \n",
       "0      Mon      Tue      Wed      Thu      Fri  \n",
       "2        P        U        P        P        P  \n",
       "3        P        A        P        U        P  \n",
       "4        P        P        P        P        P  \n",
       "5        P        P        P        P        P  \n",
       "\n",
       "[5 rows x 90 columns]"
      ]
     },
     "execution_count": 31,
     "metadata": {},
     "output_type": "execute_result"
    }
   ],
   "source": [
    "attendance.head()"
   ]
  },
  {
   "cell_type": "markdown",
   "id": "a7a09846",
   "metadata": {},
   "source": [
    "That looks better in terms of instructional days. Continuing the cleaning, note that we have dates as our columns, but they're represented by strings. In order to better plot time-series data, I'm going to convert the columns to datetime objects."
   ]
  },
  {
   "cell_type": "code",
   "execution_count": 35,
   "id": "aadfd6d0",
   "metadata": {},
   "outputs": [],
   "source": [
    "#Apply a function to the columns to convert them to datetime objects inplace\n",
    "attendance.rename(columns=lambda x : datetime.strptime(x, \"%m/%d/%y\"), inplace=True)"
   ]
  },
  {
   "cell_type": "markdown",
   "id": "d5bef561",
   "metadata": {},
   "source": [
    "Now I want to find how often each student was present, absent, etc. "
   ]
  },
  {
   "cell_type": "code",
   "execution_count": 37,
   "id": "4ed92c05",
   "metadata": {},
   "outputs": [],
   "source": [
    "student_attendance=attendance.drop([0]).apply(pd.Series.value_counts,axis=1).fillna(0)"
   ]
  },
  {
   "cell_type": "markdown",
   "id": "123368a2",
   "metadata": {},
   "source": [
    "In particular, I'm concerned with how often they had excused or unexcused absences. Since I'm only concerned about absences, I will count tardy students as being present."
   ]
  },
  {
   "cell_type": "code",
   "execution_count": 38,
   "id": "89036d71",
   "metadata": {},
   "outputs": [],
   "source": [
    "student_attendance['Excused']=student_attendance[['A','X']].sum(axis=1)"
   ]
  },
  {
   "cell_type": "code",
   "execution_count": 39,
   "id": "441edea3",
   "metadata": {},
   "outputs": [],
   "source": [
    "student_attendance.rename(columns={'U': 'Unexcused'}, inplace=True)"
   ]
  },
  {
   "cell_type": "code",
   "execution_count": 40,
   "id": "09111a41",
   "metadata": {},
   "outputs": [],
   "source": [
    "student_attendance['Present']=student_attendance[['P','T']].sum(axis=1)"
   ]
  },
  {
   "cell_type": "code",
   "execution_count": 41,
   "id": "207c7d05",
   "metadata": {},
   "outputs": [],
   "source": [
    "student_attendance_summarized=student_attendance[['Present', 'Excused', 'Unexcused']]"
   ]
  },
  {
   "cell_type": "code",
   "execution_count": 42,
   "id": "a5269461",
   "metadata": {},
   "outputs": [
    {
     "data": {
      "text/html": [
       "<div>\n",
       "<style scoped>\n",
       "    .dataframe tbody tr th:only-of-type {\n",
       "        vertical-align: middle;\n",
       "    }\n",
       "\n",
       "    .dataframe tbody tr th {\n",
       "        vertical-align: top;\n",
       "    }\n",
       "\n",
       "    .dataframe thead th {\n",
       "        text-align: right;\n",
       "    }\n",
       "</style>\n",
       "<table border=\"1\" class=\"dataframe\">\n",
       "  <thead>\n",
       "    <tr style=\"text-align: right;\">\n",
       "      <th></th>\n",
       "      <th>Present</th>\n",
       "      <th>Excused</th>\n",
       "      <th>Unexcused</th>\n",
       "    </tr>\n",
       "  </thead>\n",
       "  <tbody>\n",
       "    <tr>\n",
       "      <th>2</th>\n",
       "      <td>79.0</td>\n",
       "      <td>4.0</td>\n",
       "      <td>7.0</td>\n",
       "    </tr>\n",
       "    <tr>\n",
       "      <th>3</th>\n",
       "      <td>76.0</td>\n",
       "      <td>4.0</td>\n",
       "      <td>10.0</td>\n",
       "    </tr>\n",
       "    <tr>\n",
       "      <th>4</th>\n",
       "      <td>80.0</td>\n",
       "      <td>0.0</td>\n",
       "      <td>10.0</td>\n",
       "    </tr>\n",
       "    <tr>\n",
       "      <th>5</th>\n",
       "      <td>87.0</td>\n",
       "      <td>2.0</td>\n",
       "      <td>1.0</td>\n",
       "    </tr>\n",
       "    <tr>\n",
       "      <th>6</th>\n",
       "      <td>74.0</td>\n",
       "      <td>5.0</td>\n",
       "      <td>11.0</td>\n",
       "    </tr>\n",
       "    <tr>\n",
       "      <th>...</th>\n",
       "      <td>...</td>\n",
       "      <td>...</td>\n",
       "      <td>...</td>\n",
       "    </tr>\n",
       "    <tr>\n",
       "      <th>131</th>\n",
       "      <td>79.0</td>\n",
       "      <td>6.0</td>\n",
       "      <td>5.0</td>\n",
       "    </tr>\n",
       "    <tr>\n",
       "      <th>132</th>\n",
       "      <td>59.0</td>\n",
       "      <td>12.0</td>\n",
       "      <td>19.0</td>\n",
       "    </tr>\n",
       "    <tr>\n",
       "      <th>133</th>\n",
       "      <td>74.0</td>\n",
       "      <td>10.0</td>\n",
       "      <td>6.0</td>\n",
       "    </tr>\n",
       "    <tr>\n",
       "      <th>134</th>\n",
       "      <td>87.0</td>\n",
       "      <td>3.0</td>\n",
       "      <td>0.0</td>\n",
       "    </tr>\n",
       "    <tr>\n",
       "      <th>135</th>\n",
       "      <td>73.0</td>\n",
       "      <td>6.0</td>\n",
       "      <td>11.0</td>\n",
       "    </tr>\n",
       "  </tbody>\n",
       "</table>\n",
       "<p>128 rows × 3 columns</p>\n",
       "</div>"
      ],
      "text/plain": [
       "     Present  Excused  Unexcused\n",
       "2       79.0      4.0        7.0\n",
       "3       76.0      4.0       10.0\n",
       "4       80.0      0.0       10.0\n",
       "5       87.0      2.0        1.0\n",
       "6       74.0      5.0       11.0\n",
       "..       ...      ...        ...\n",
       "131     79.0      6.0        5.0\n",
       "132     59.0     12.0       19.0\n",
       "133     74.0     10.0        6.0\n",
       "134     87.0      3.0        0.0\n",
       "135     73.0      6.0       11.0\n",
       "\n",
       "[128 rows x 3 columns]"
      ]
     },
     "execution_count": 42,
     "metadata": {},
     "output_type": "execute_result"
    }
   ],
   "source": [
    "student_attendance_summarized"
   ]
  },
  {
   "cell_type": "markdown",
   "id": "e8c38d86",
   "metadata": {},
   "source": [
    "Now we want to get an idea of how many students were \"chronically absent\", which would be those students who miss more than 10% of days. Of course, we can whether we count excused absences as absences for this purpose. From the perspective of the student and determining fault, it may be better to not count excused absences. From the perspective of teaching being easier if the student is in class, it would be better to count excused absences as an absence. So let's do both!"
   ]
  },
  {
   "cell_type": "code",
   "execution_count": 43,
   "id": "0e2c3bf7",
   "metadata": {},
   "outputs": [],
   "source": [
    "#The percentage of days each student was absent (unexcused)\n",
    "student_absence_unexcused=(student_attendance_summarized.Unexcused/90)*100"
   ]
  },
  {
   "cell_type": "code",
   "execution_count": 44,
   "id": "3bdd6bf4",
   "metadata": {},
   "outputs": [
    {
     "data": {
      "text/plain": [
       "29     28.888889\n",
       "48     27.777778\n",
       "132    21.111111\n",
       "108    20.000000\n",
       "59     20.000000\n",
       "         ...    \n",
       "77      0.000000\n",
       "129     0.000000\n",
       "7       0.000000\n",
       "134     0.000000\n",
       "36      0.000000\n",
       "Name: Unexcused, Length: 128, dtype: float64"
      ]
     },
     "execution_count": 44,
     "metadata": {},
     "output_type": "execute_result"
    }
   ],
   "source": [
    "student_absence_unexcused.sort_values(ascending=False)"
   ]
  },
  {
   "cell_type": "code",
   "execution_count": 45,
   "id": "ddb6679d",
   "metadata": {},
   "outputs": [
    {
     "data": {
      "text/plain": [
       "32"
      ]
     },
     "execution_count": 45,
     "metadata": {},
     "output_type": "execute_result"
    }
   ],
   "source": [
    "student_absence_unexcused[student_absence_unexcused>10.0].count()"
   ]
  },
  {
   "cell_type": "markdown",
   "id": "88219775",
   "metadata": {},
   "source": [
    "This tells me that 32 of my students would have been considered chronically absent for my class during the first semester. I have 128 students on my roster, which means a quarter of my students were chronically absent! Now let's look at absences in general."
   ]
  },
  {
   "cell_type": "code",
   "execution_count": 46,
   "id": "f42673ab",
   "metadata": {},
   "outputs": [],
   "source": [
    "student_absence=(1-student_attendance_summarized.Present/90)*100"
   ]
  },
  {
   "cell_type": "code",
   "execution_count": 47,
   "id": "72b8e69d",
   "metadata": {},
   "outputs": [
    {
     "data": {
      "text/plain": [
       "57"
      ]
     },
     "execution_count": 47,
     "metadata": {},
     "output_type": "execute_result"
    }
   ],
   "source": [
    "student_absence[student_absence>10.0].count()"
   ]
  },
  {
   "cell_type": "markdown",
   "id": "42f77508",
   "metadata": {},
   "source": [
    "Okay, so 57 of my 128 students (45%) missed at least 10% of the instructional time! Regardless of why that happened, this makes it difficult to actually make progress in class. Let's take a look at some summary statistics for both series."
   ]
  },
  {
   "cell_type": "code",
   "execution_count": 48,
   "id": "c84b2a91",
   "metadata": {},
   "outputs": [
    {
     "data": {
      "text/plain": [
       "count    128.000000\n",
       "mean      11.449653\n",
       "std        8.437303\n",
       "min        0.000000\n",
       "25%        5.555556\n",
       "50%        9.444444\n",
       "75%       16.666667\n",
       "max       45.555556\n",
       "Name: Present, dtype: float64"
      ]
     },
     "execution_count": 48,
     "metadata": {},
     "output_type": "execute_result"
    }
   ],
   "source": [
    "student_absence.describe()"
   ]
  },
  {
   "cell_type": "code",
   "execution_count": 49,
   "id": "f211f4ae",
   "metadata": {},
   "outputs": [
    {
     "data": {
      "text/plain": [
       "count    128.000000\n",
       "mean       7.083333\n",
       "std        5.807917\n",
       "min        0.000000\n",
       "25%        2.222222\n",
       "50%        5.555556\n",
       "75%       10.277778\n",
       "max       28.888889\n",
       "Name: Unexcused, dtype: float64"
      ]
     },
     "execution_count": 49,
     "metadata": {},
     "output_type": "execute_result"
    }
   ],
   "source": [
    "student_absence_unexcused.describe()"
   ]
  },
  {
   "cell_type": "markdown",
   "id": "a8dfa529",
   "metadata": {},
   "source": [
    "The next thing I want to do is look at how many students are absent (just unexcused and absent in general) on my roster on each day. For this, we just need to count values across columns."
   ]
  },
  {
   "cell_type": "code",
   "execution_count": 50,
   "id": "4aabe1be",
   "metadata": {},
   "outputs": [],
   "source": [
    "#For each date, count the number of students who are present or tardy to \n",
    "#get the number of folks who were present on that day.\n",
    "present_bydate=((attendance=='P') | (attendance=='T')).sum()"
   ]
  },
  {
   "cell_type": "code",
   "execution_count": 51,
   "id": "1ee4773b",
   "metadata": {},
   "outputs": [],
   "source": [
    "#For each date, count the number of students who are absent (unexcused) on a given day.\n",
    "unexcused_bydate=(attendance=='U').sum()"
   ]
  },
  {
   "cell_type": "code",
   "execution_count": 52,
   "id": "08caa7ee",
   "metadata": {},
   "outputs": [
    {
     "data": {
      "text/plain": [
       "2023-08-17    115\n",
       "2023-08-18    117\n",
       "2023-08-21    112\n",
       "2023-08-22    113\n",
       "2023-08-23    116\n",
       "             ... \n",
       "2024-01-08    118\n",
       "2024-01-09    107\n",
       "2024-01-10    118\n",
       "2024-01-11    116\n",
       "2024-01-12    116\n",
       "Length: 90, dtype: int64"
      ]
     },
     "execution_count": 52,
     "metadata": {},
     "output_type": "execute_result"
    }
   ],
   "source": [
    "present_bydate"
   ]
  },
  {
   "cell_type": "code",
   "execution_count": 53,
   "id": "98ac03f6",
   "metadata": {},
   "outputs": [
    {
     "data": {
      "text/plain": [
       "2023-08-17     2\n",
       "2023-08-18     1\n",
       "2023-08-21     6\n",
       "2023-08-22     4\n",
       "2023-08-23     3\n",
       "              ..\n",
       "2024-01-08    10\n",
       "2024-01-09    13\n",
       "2024-01-10     7\n",
       "2024-01-11     9\n",
       "2024-01-12     9\n",
       "Length: 90, dtype: int64"
      ]
     },
     "execution_count": 53,
     "metadata": {},
     "output_type": "execute_result"
    }
   ],
   "source": [
    "unexcused_bydate"
   ]
  },
  {
   "cell_type": "code",
   "execution_count": 54,
   "id": "84911cd5",
   "metadata": {},
   "outputs": [],
   "source": [
    "#percent of roster that is absent (unexcused)\n",
    "unexcused_percent_bydate=unexcused_bydate.apply(lambda x : 100*(x/128))"
   ]
  },
  {
   "cell_type": "code",
   "execution_count": 55,
   "id": "1a5fab30",
   "metadata": {},
   "outputs": [
    {
     "data": {
      "text/plain": [
       "2023-08-17     1.56250\n",
       "2023-08-18     0.78125\n",
       "2023-08-21     4.68750\n",
       "2023-08-22     3.12500\n",
       "2023-08-23     2.34375\n",
       "                ...   \n",
       "2024-01-08     7.81250\n",
       "2024-01-09    10.15625\n",
       "2024-01-10     5.46875\n",
       "2024-01-11     7.03125\n",
       "2024-01-12     7.03125\n",
       "Length: 90, dtype: float64"
      ]
     },
     "execution_count": 55,
     "metadata": {},
     "output_type": "execute_result"
    }
   ],
   "source": [
    "unexcused_percent_bydate"
   ]
  },
  {
   "cell_type": "markdown",
   "id": "15f117c4",
   "metadata": {},
   "source": [
    "Now we want to get a look at what the attendance looks like throughout the semester in my classes. We'll look at both unexcused absences and absences in general."
   ]
  },
  {
   "cell_type": "code",
   "execution_count": 56,
   "id": "11e34bd1",
   "metadata": {},
   "outputs": [
    {
     "data": {
      "image/png": "[encoded data removed]",
      "text/plain": [
       "<Figure size 640x480 with 1 Axes>"
      ]
     },
     "metadata": {},
     "output_type": "display_data"
    }
   ],
   "source": [
    "#Time-series graph of percent of unexcused absences during first semester.\n",
    "plt.plot(unexcused_percent_bydate)\n",
    "# Add title and axis labels\n",
    "plt.title('First Semester Unexcused Absences')\n",
    "plt.xlabel('Time')\n",
    "plt.ylabel('Unexcused Absent Percent')\n",
    "plt.xticks(rotation=45)\n",
    "\n",
    "# Display the plot\n",
    "plt.show()"
   ]
  },
  {
   "cell_type": "code",
   "execution_count": 57,
   "id": "ab918005",
   "metadata": {},
   "outputs": [],
   "source": [
    "absent_bydate=128-present_bydate\n",
    "absent_percent_bydate=100*(absent_bydate/128)"
   ]
  },
  {
   "cell_type": "code",
   "execution_count": 58,
   "id": "9037b633",
   "metadata": {},
   "outputs": [
    {
     "data": {
      "image/png": "[encoded data removed]",
      "text/plain": [
       "<Figure size 640x480 with 1 Axes>"
      ]
     },
     "metadata": {},
     "output_type": "display_data"
    }
   ],
   "source": [
    "plt.plot(absent_percent_bydate)\n",
    "# Add title and axis labels\n",
    "plt.title('First Semester Absences')\n",
    "plt.xlabel('Time')\n",
    "plt.ylabel('Absent Percent')\n",
    "plt.xticks(rotation=45)\n",
    "\n",
    "# Display the plot\n",
    "plt.show()"
   ]
  },
  {
   "cell_type": "markdown",
   "id": "3ef8e036",
   "metadata": {},
   "source": [
    "Now we're going to grab some summary statistics to see if anything really stands out"
   ]
  },
  {
   "cell_type": "code",
   "execution_count": 59,
   "id": "93c7d556",
   "metadata": {},
   "outputs": [
    {
     "data": {
      "text/plain": [
       "count    90.000000\n",
       "mean     11.449653\n",
       "std       5.307956\n",
       "min       4.687500\n",
       "25%       8.593750\n",
       "50%      10.156250\n",
       "75%      12.500000\n",
       "max      36.718750\n",
       "dtype: float64"
      ]
     },
     "execution_count": 59,
     "metadata": {},
     "output_type": "execute_result"
    }
   ],
   "source": [
    "absent_percent_bydate.describe()"
   ]
  },
  {
   "cell_type": "code",
   "execution_count": 60,
   "id": "f7a24ff3",
   "metadata": {},
   "outputs": [
    {
     "data": {
      "text/plain": [
       "count    90.000000\n",
       "mean      7.083333\n",
       "std       4.511258\n",
       "min       0.781250\n",
       "25%       3.906250\n",
       "50%       6.250000\n",
       "75%       8.593750\n",
       "max      28.125000\n",
       "dtype: float64"
      ]
     },
     "execution_count": 60,
     "metadata": {},
     "output_type": "execute_result"
    }
   ],
   "source": [
    "unexcused_percent_bydate.describe()"
   ]
  },
  {
   "cell_type": "markdown",
   "id": "d768013f",
   "metadata": {},
   "source": [
    "Now I'm curious as to whether or not there are trends in the data in regards to days of the week. For example, are students more likely to miss Firday or Monday?"
   ]
  },
  {
   "cell_type": "code",
   "execution_count": 61,
   "id": "dd3aaef7",
   "metadata": {},
   "outputs": [
    {
     "data": {
      "text/plain": [
       "2023-08-17    Thu\n",
       "2023-08-18    Fri\n",
       "2023-08-21    Mon\n",
       "2023-08-22    Tue\n",
       "2023-08-23    Wed\n",
       "             ... \n",
       "2024-01-08    Mon\n",
       "2024-01-09    Tue\n",
       "2024-01-10    Wed\n",
       "2024-01-11    Thu\n",
       "2024-01-12    Fri\n",
       "Name: 0, Length: 90, dtype: object"
      ]
     },
     "execution_count": 61,
     "metadata": {},
     "output_type": "execute_result"
    }
   ],
   "source": [
    "attendance.iloc[0]"
   ]
  },
  {
   "cell_type": "code",
   "execution_count": 62,
   "id": "ca1ed93c",
   "metadata": {},
   "outputs": [],
   "source": [
    "#create an array of the days of the weeks in date order\n",
    "day_array=attendance.iloc[0].to_numpy()"
   ]
  },
  {
   "cell_type": "code",
   "execution_count": 63,
   "id": "1f38795d",
   "metadata": {},
   "outputs": [],
   "source": [
    "#create an array of the present data in date order\n",
    "present_array=present_bydate.to_numpy()"
   ]
  },
  {
   "cell_type": "code",
   "execution_count": 64,
   "id": "1c6df0f6",
   "metadata": {},
   "outputs": [],
   "source": [
    "#create an array of unexcused absence data in date order\n",
    "unexcused_array=unexcused_bydate.to_numpy()"
   ]
  },
  {
   "cell_type": "markdown",
   "id": "7685b9c9",
   "metadata": {},
   "source": [
    "Now we're going to make a dataframe that uses the dates as indeces, and has a column fo the day of the week, number of present students, and number of absent students."
   ]
  },
  {
   "cell_type": "code",
   "execution_count": 65,
   "id": "c9bf3c93",
   "metadata": {},
   "outputs": [],
   "source": [
    "d={'day': day_array, 'present' : present_array, 'unexcused' : unexcused_array}\n",
    "attendance_days=pd.DataFrame(data=d, index=unexcused_bydate.index)"
   ]
  },
  {
   "cell_type": "code",
   "execution_count": 66,
   "id": "d24a5c38",
   "metadata": {},
   "outputs": [],
   "source": [
    "#create a dictionary to store the days of the week\n",
    "day_dict={}\n",
    "for wday in set(attendance_days.day.values):\n",
    "    #zero out attendance for any date that does not correspond to the day we're considering\n",
    "    day_present=attendance_days.present*(attendance_days.day==wday)\n",
    "    #eliminate all 0 values\n",
    "    day_dict[wday]=day_present[day_present.to_numpy().nonzero()[0]]"
   ]
  },
  {
   "cell_type": "code",
   "execution_count": 67,
   "id": "fb7192b7",
   "metadata": {},
   "outputs": [
    {
     "data": {
      "text/plain": [
       "{'Thu': 2023-08-17    115\n",
       " 2023-08-24    114\n",
       " 2023-08-31    112\n",
       " 2023-09-07    117\n",
       " 2023-09-14    114\n",
       " 2023-09-21    118\n",
       " 2023-09-28    116\n",
       " 2023-10-05    121\n",
       " 2023-10-12    116\n",
       " 2023-10-19    112\n",
       " 2023-10-26    115\n",
       " 2023-11-02    109\n",
       " 2023-11-09    108\n",
       " 2023-11-16    118\n",
       " 2023-11-30    117\n",
       " 2023-12-07    114\n",
       " 2023-12-14    112\n",
       " 2024-01-04    108\n",
       " 2024-01-11    116\n",
       " dtype: int64,\n",
       " 'Fri': 2023-08-18    117\n",
       " 2023-08-25    114\n",
       " 2023-09-01    115\n",
       " 2023-09-08    119\n",
       " 2023-09-15    116\n",
       " 2023-09-22    117\n",
       " 2023-09-29    102\n",
       " 2023-10-06    112\n",
       " 2023-10-13    110\n",
       " 2023-10-27    116\n",
       " 2023-11-03    109\n",
       " 2023-11-10    106\n",
       " 2023-11-17    115\n",
       " 2023-12-01    117\n",
       " 2023-12-08    107\n",
       " 2023-12-15    109\n",
       " 2024-01-05    111\n",
       " 2024-01-12    116\n",
       " dtype: int64,\n",
       " 'Wed': 2023-08-23    116\n",
       " 2023-08-30    109\n",
       " 2023-09-06    115\n",
       " 2023-09-13    113\n",
       " 2023-09-20    117\n",
       " 2023-09-27    119\n",
       " 2023-10-04    122\n",
       " 2023-10-11    118\n",
       " 2023-10-18    122\n",
       " 2023-10-25    119\n",
       " 2023-11-01    114\n",
       " 2023-11-08    117\n",
       " 2023-11-15    121\n",
       " 2023-11-29    111\n",
       " 2023-12-06     92\n",
       " 2023-12-13    109\n",
       " 2023-12-20     86\n",
       " 2024-01-03     99\n",
       " 2024-01-10    118\n",
       " dtype: int64,\n",
       " 'Mon': 2023-08-21    112\n",
       " 2023-08-28    114\n",
       " 2023-09-11    117\n",
       " 2023-09-18    115\n",
       " 2023-09-25    117\n",
       " 2023-10-02    117\n",
       " 2023-10-09    115\n",
       " 2023-10-16    112\n",
       " 2023-10-23    113\n",
       " 2023-10-30    112\n",
       " 2023-11-06    116\n",
       " 2023-11-13    118\n",
       " 2023-11-20    111\n",
       " 2023-12-04    119\n",
       " 2023-12-11    105\n",
       " 2023-12-18    117\n",
       " 2024-01-08    118\n",
       " dtype: int64,\n",
       " 'Tue': 2023-08-22    113\n",
       " 2023-08-29    114\n",
       " 2023-09-05    116\n",
       " 2023-09-12    118\n",
       " 2023-09-19    117\n",
       " 2023-09-26    118\n",
       " 2023-10-03    120\n",
       " 2023-10-10    119\n",
       " 2023-10-17    121\n",
       " 2023-10-31    118\n",
       " 2023-11-07    106\n",
       " 2023-11-14    116\n",
       " 2023-11-21    104\n",
       " 2023-11-28    112\n",
       " 2023-12-12    116\n",
       " 2023-12-19     81\n",
       " 2024-01-09    107\n",
       " dtype: int64}"
      ]
     },
     "execution_count": 67,
     "metadata": {},
     "output_type": "execute_result"
    }
   ],
   "source": [
    "#End result is a dictionary that partitions the dates into days of the week.\n",
    "day_dict"
   ]
  },
  {
   "cell_type": "code",
   "execution_count": 68,
   "id": "f9376848",
   "metadata": {},
   "outputs": [],
   "source": [
    "#Do the same for unexcused absences\n",
    "day_dict_u={}\n",
    "for wday in set(attendance_days.day.values):\n",
    "    day_u=attendance_days.unexcused*(attendance_days.day==wday)\n",
    "    day_dict_u[wday]=day_u[day_u.to_numpy().nonzero()[0]]"
   ]
  },
  {
   "cell_type": "code",
   "execution_count": 69,
   "id": "257b895a",
   "metadata": {},
   "outputs": [
    {
     "name": "stdout",
     "output_type": "stream",
     "text": [
      "Thu\n",
      "count    19.000000\n",
      "mean      8.315789\n",
      "std       3.528497\n",
      "min       2.000000\n",
      "25%       6.500000\n",
      "50%       8.000000\n",
      "75%      10.500000\n",
      "max      15.000000\n",
      "dtype: float64\n",
      "Fri\n",
      "count    18.000000\n",
      "mean      9.166667\n",
      "std       4.287465\n",
      "min       1.000000\n",
      "25%       5.500000\n",
      "50%       9.000000\n",
      "75%      11.750000\n",
      "max      16.000000\n",
      "dtype: float64\n",
      "Wed\n",
      "count    19.000000\n",
      "mean     10.473684\n",
      "std      10.178236\n",
      "min       2.000000\n",
      "25%       5.500000\n",
      "50%       7.000000\n",
      "75%      10.000000\n",
      "max      36.000000\n",
      "dtype: float64\n",
      "Mon\n",
      "count    17.000000\n",
      "mean      9.117647\n",
      "std       2.997548\n",
      "min       5.000000\n",
      "25%       7.000000\n",
      "50%       8.000000\n",
      "75%      10.000000\n",
      "max      14.000000\n",
      "dtype: float64\n",
      "Tue\n",
      "count    17.000000\n",
      "mean      8.176471\n",
      "std       4.746516\n",
      "min       4.000000\n",
      "25%       5.000000\n",
      "50%       5.000000\n",
      "75%      13.000000\n",
      "max      20.000000\n",
      "dtype: float64\n"
     ]
    }
   ],
   "source": [
    "#Check summary statistics to see if there are any noticeable trends.\n",
    "for wday in day_dict_u:\n",
    "    print(wday, day_dict_u[wday].describe(), sep='\\n')"
   ]
  },
  {
   "cell_type": "markdown",
   "id": "31323d4a",
   "metadata": {},
   "source": [
    "One thing that immediately pops out is Wednesday with it's fairly high standard deviation relative to the other days as well as the relatively higher mean. We can see from the data that Wednesday was one of those large spikes in absences that we saw near the end of the semester. Next, we wanto to visually compare the data. As the data is stored, this would yield timeseries graphs, but that may not be the best way to view the data."
   ]
  },
  {
   "cell_type": "code",
   "execution_count": 70,
   "id": "f3b3d094",
   "metadata": {},
   "outputs": [
    {
     "data": {
      "text/plain": [
       "Text(0.5, 0, 'Date')"
      ]
     },
     "execution_count": 70,
     "metadata": {},
     "output_type": "execute_result"
    },
    {
     "data": {
      "image/png": "[encoded data removed]",
      "text/plain": [
       "<Figure size 640x480 with 1 Axes>"
      ]
     },
     "metadata": {},
     "output_type": "display_data"
    }
   ],
   "source": [
    "for wday in day_dict_u:\n",
    "    plt.plot(day_dict_u[wday], label=wday)\n",
    "plt.legend(loc=\"upper left\")\n",
    "plt.title('Unexcused Absences by Day')\n",
    "plt.ylabel('Unexcused Absences')\n",
    "plt.xlabel('Date')"
   ]
  },
  {
   "cell_type": "markdown",
   "id": "bd86889b",
   "metadata": {},
   "source": [
    "We see the predicted spike, but the problem here is date may not be the best way to group these observations. A better method may be to group the date by which school week it is. This would also acount for the facts that we did not meet on every day of every week (so some school weeks will only include a subset of the weekdays). "
   ]
  },
  {
   "cell_type": "code",
   "execution_count": 76,
   "id": "ed3e7ebf",
   "metadata": {},
   "outputs": [],
   "source": [
    "#Set the initial day to Sunday of the first week of school\n",
    "week=timedelta(weeks=1)\n",
    "initial=datetime(2023, 8, 13)"
   ]
  },
  {
   "cell_type": "markdown",
   "id": "35a44b85",
   "metadata": {},
   "source": [
    "Now we're going to create a \"school week\" array to associate to each date. That will allow us to create a new dataframe with the school week as our index and days of the week as the columns."
   ]
  },
  {
   "cell_type": "code",
   "execution_count": 77,
   "id": "7c1a3c42",
   "metadata": {},
   "outputs": [],
   "source": [
    "weekdays=['Mon', 'Tue', 'Wed', 'Thu', 'Fri']\n",
    "w_n=0\n",
    "weeknum=[]\n",
    "date_check=initial\n",
    "for date in attendance_days.index:\n",
    "    #check if the date is within the week\n",
    "    if date<=date_check:\n",
    "        weeknum.append(w_n)\n",
    "    #if it isn't, keep incrementing the check date by a week until we end up at the appropriate week\n",
    "    else:\n",
    "        while date>date_check:\n",
    "            w_n+=1\n",
    "            date_check+=week\n",
    "        weeknum.append(w_n)\n",
    "\n",
    "attendance_days[\"week number\"]=weeknum"
   ]
  },
  {
   "cell_type": "code",
   "execution_count": 78,
   "id": "ff76153c",
   "metadata": {},
   "outputs": [],
   "source": [
    "#Join the week number to each day's unexpected absence series and make it a dataframe in the process\n",
    "unex_weeknum={}\n",
    "for wday in weekdays:\n",
    "    unex_weeknum[wday]=day_dict_u[wday].rename(wday).to_frame().join(attendance_days[\"week number\"].to_frame())"
   ]
  },
  {
   "cell_type": "code",
   "execution_count": 79,
   "id": "f941b5ae",
   "metadata": {},
   "outputs": [],
   "source": [
    "#set the index of each weekday dataframe to its week number\n",
    "for wday in weekdays:\n",
    "    unex_weeknum[wday].set_index(\"week number\", inplace=True)"
   ]
  },
  {
   "cell_type": "code",
   "execution_count": 80,
   "id": "a04cf6c2",
   "metadata": {},
   "outputs": [],
   "source": [
    "#join all of the individual days of the week into a dataframe that organizes absences by school week\n",
    "unexcused_by_week=unex_weeknum[\"Mon\"].join(unex_weeknum[\"Tue\"], how=\"outer\")\n",
    "unexcused_by_week=unexcused_by_week.join(unex_weeknum[\"Wed\"], how=\"outer\")\n",
    "unexcused_by_week=unexcused_by_week.join(unex_weeknum[\"Thu\"], how=\"outer\")\n",
    "unexcused_by_week=unexcused_by_week.join(unex_weeknum[\"Fri\"], how=\"outer\")"
   ]
  },
  {
   "cell_type": "code",
   "execution_count": 81,
   "id": "71db4df0",
   "metadata": {},
   "outputs": [],
   "source": [
    "unexcused_by_week[\"Total\"]=unexcused_by_week.sum(axis=1)"
   ]
  },
  {
   "cell_type": "code",
   "execution_count": 91,
   "id": "86b10936",
   "metadata": {},
   "outputs": [],
   "source": [
    "x=np.linspace(1,22, num=21)\n",
    "y=unexcused_by_week.mean(axis=1)"
   ]
  },
  {
   "cell_type": "code",
   "execution_count": 92,
   "id": "77d73e24",
   "metadata": {},
   "outputs": [
    {
     "data": {
      "text/plain": [
       "<matplotlib.collections.PathCollection at 0x2ae3f4154d0>"
      ]
     },
     "execution_count": 92,
     "metadata": {},
     "output_type": "execute_result"
    },
    {
     "data": {
      "image/png": "[encoded data removed]",
      "text/plain": [
       "<Figure size 640x480 with 1 Axes>"
      ]
     },
     "metadata": {},
     "output_type": "display_data"
    }
   ],
   "source": [
    "plt.scatter(x, y)"
   ]
  },
  {
   "cell_type": "markdown",
   "id": "e32db07b",
   "metadata": {},
   "source": [
    "Interestingly enough, the scatterplot by week does suggest a linear relation moreso than the original timeseries data. Though, the statement \"students tend to miss more school as the semester drags on\" isn't exactly news."
   ]
  },
  {
   "cell_type": "code",
   "execution_count": 93,
   "id": "1a10f126",
   "metadata": {},
   "outputs": [
    {
     "data": {
      "text/plain": [
       "0.6615357991354229"
      ]
     },
     "execution_count": 93,
     "metadata": {},
     "output_type": "execute_result"
    }
   ],
   "source": [
    "x=pd.DataFrame(x)\n",
    "reg=LinearRegression().fit(x,y)\n",
    "reg.score(x,y)"
   ]
  },
  {
   "cell_type": "code",
   "execution_count": 94,
   "id": "0a62443d",
   "metadata": {},
   "outputs": [],
   "source": [
    "#create an array of x-values so we can apply the slope and intercept above.\n",
    "y_pred=x*reg.coef_+reg.intercept_"
   ]
  },
  {
   "cell_type": "code",
   "execution_count": 95,
   "id": "9dc282c2",
   "metadata": {},
   "outputs": [
    {
     "data": {
      "image/png": "[encoded data removed]",
      "text/plain": [
       "<Figure size 640x480 with 1 Axes>"
      ]
     },
     "metadata": {},
     "output_type": "display_data"
    }
   ],
   "source": [
    "#recreate the scatter plot, but now with the line of best fit.\n",
    "plt.scatter(x,y)\n",
    "plt.plot(x, y_pred, color='black')\n",
    "plt.title('Average Weekly Absences')\n",
    "plt.xlabel('Week')\n",
    "plt.ylabel('Absences')\n",
    "\n",
    "\n",
    "plt.show()"
   ]
  },
  {
   "cell_type": "markdown",
   "id": "805d9cfe",
   "metadata": {},
   "source": [
    "Now, let's go ahead and test the significance of the relationship between the week and absences. In particular, we're going to use the slop $\\beta_1$ to test this relationship.\n",
    "\n",
    "$H_0: \\beta_1=0$\n",
    "\n",
    "$H_a:\\beta_1\\neq 0$\n",
    "\n",
    "The first step is to compute the residual sum of squares (RSS)."
   ]
  },
  {
   "cell_type": "code",
   "execution_count": 147,
   "id": "d86f5713",
   "metadata": {},
   "outputs": [
    {
     "data": {
      "text/plain": [
       "311.7811159211159"
      ]
     },
     "execution_count": 147,
     "metadata": {},
     "output_type": "execute_result"
    }
   ],
   "source": [
    "#We have to send y and y_pred to arrays before zipping and using list comprehension\n",
    "RSS=sum([(yi-y_hat)**2 for yi, y_hat in zip(y.to_numpy(), y_pred.to_numpy())])[0]\n",
    "RSS"
   ]
  },
  {
   "cell_type": "markdown",
   "id": "300063fe",
   "metadata": {},
   "source": [
    "Since we don't know our population standard deviaion ($\\sigma$), we estimate it with the residual standard error (RSE) in order to compute the test statistic."
   ]
  },
  {
   "cell_type": "code",
   "execution_count": 121,
   "id": "fc4d02bd",
   "metadata": {},
   "outputs": [
    {
     "data": {
      "text/plain": [
       "4.050868106579235"
      ]
     },
     "execution_count": 121,
     "metadata": {},
     "output_type": "execute_result"
    }
   ],
   "source": [
    "RSE=math.sqrt(RSS/(len(x)-2))\n",
    "RSE"
   ]
  },
  {
   "cell_type": "markdown",
   "id": "20768024",
   "metadata": {},
   "source": [
    "Assuming the null hypothesis, we compute the test-statistic noting that we're testing with the t-distribution with $n-2$ degrees of freedom due to the small number of points."
   ]
  },
  {
   "cell_type": "code",
   "execution_count": 148,
   "id": "1a65797b",
   "metadata": {},
   "outputs": [
    {
     "data": {
      "text/plain": [
       "6.093925012706526"
      ]
     },
     "execution_count": 148,
     "metadata": {},
     "output_type": "execute_result"
    }
   ],
   "source": [
    "#The t-value is just beta_1 divided by the standard error.\n",
    "sqr_dev=(x-x.mean())**2\n",
    "SE=RSE/math.sqrt(sqr_dev.sum())\n",
    "t_val=reg.coef_/SE\n",
    "t_val[0]"
   ]
  },
  {
   "cell_type": "markdown",
   "id": "759a71fe",
   "metadata": {},
   "source": [
    "Finally, we compute the p-value using the t-distribution from the scipy.stats library. Since we're doing a two-tailed test, we need the sum of both tails."
   ]
  },
  {
   "cell_type": "code",
   "execution_count": 146,
   "id": "fdfc4c4f",
   "metadata": {},
   "outputs": [
    {
     "name": "stdout",
     "output_type": "stream",
     "text": [
      "7.360233132303051e-06\n"
     ]
    }
   ],
   "source": [
    "p=(1-t.cdf(t_val[0], len(x)-2))*2\n",
    "print(p)"
   ]
  },
  {
   "cell_type": "markdown",
   "id": "39a8c2ba",
   "metadata": {},
   "source": [
    "We can very safely reject the null hypothesis here to conclude that it's highly likely that attendance is correlated with how far one is into the school year. Of course, we could have intuitively concluded that from the strength of the correlation and the value of $\\beta_1$, but I had never done hypothesis testing in Python. So I figured this would be a nice motivator."
   ]
  },
  {
   "cell_type": "markdown",
   "id": "96ad965e",
   "metadata": {},
   "source": [
    "Now that we have our data arranged by school weeks and weekdays, we can now create a stacked bar chart where the x-axis is the school week and the stacked bars correspond to days of the week."
   ]
  },
  {
   "cell_type": "code",
   "execution_count": 318,
   "id": "1700f9c9",
   "metadata": {
    "scrolled": false
   },
   "outputs": [
    {
     "data": {
      "image/png": "[encoded data removed]",
      "text/plain": [
       "<Figure size 640x480 with 1 Axes>"
      ]
     },
     "metadata": {},
     "output_type": "display_data"
    }
   ],
   "source": [
    "fig, ax = plt.subplots()\n",
    "bottom=np.zeros(21)\n",
    "\n",
    "bar_dict={}\n",
    "\n",
    "#create a dictionary of values for each weekday so we can easily set the bar height\n",
    "for wday in weekdays:\n",
    "    bar_dict[wday]=unexcused_by_week[wday].values\n",
    "    \n",
    "for wday in bar_dict:\n",
    "    ax.bar(unexcused_by_week.index, bar_dict[wday], bottom=bottom, label=wday)\n",
    "    bottom+=np.nan_to_num(bar_dict[wday])\n",
    "\n",
    "ax.set_title(\"absences by week\")\n",
    "ax.legend(loc=\"upper left\")\n",
    "plt.xticks(np.arange(min(x), max(x)+1, 1.0))\n",
    "\n",
    "plt.show()"
   ]
  },
  {
   "cell_type": "markdown",
   "id": "39b94288",
   "metadata": {},
   "source": [
    "For fun, let's just compute the R^2 for simple linear regression on each pair of weekday absences."
   ]
  },
  {
   "cell_type": "code",
   "execution_count": 343,
   "id": "edd1333b",
   "metadata": {},
   "outputs": [],
   "source": [
    "weekday_pairs=list(filter( lambda p : p[0]!=p[1], list(itertools.product(weekdays, weekdays))))"
   ]
  },
  {
   "cell_type": "code",
   "execution_count": 348,
   "id": "b02ba493",
   "metadata": {},
   "outputs": [],
   "source": [
    "unexcused_by_week_filled=unexcused_by_week"
   ]
  },
  {
   "cell_type": "code",
   "execution_count": 349,
   "id": "f4e95f97",
   "metadata": {},
   "outputs": [],
   "source": [
    "for wday in weekdays:\n",
    "    wday_mean=unexcused_by_week_filled[wday].mean()\n",
    "    unexcused_by_week_filled[wday].fillna(wday_mean, inplace=True)\n"
   ]
  },
  {
   "cell_type": "code",
   "execution_count": 351,
   "id": "c57eecaf",
   "metadata": {},
   "outputs": [
    {
     "name": "stdout",
     "output_type": "stream",
     "text": [
      "('Mon', 'Tue') 0.07705954444912444\n",
      "('Mon', 'Wed') 0.01898137947321843\n",
      "('Mon', 'Thu') 0.10530594708424923\n",
      "('Mon', 'Fri') 0.02760387236181938\n",
      "('Tue', 'Mon') 0.07705954444912477\n",
      "('Tue', 'Wed') 0.07770409094755248\n",
      "('Tue', 'Thu') 0.09927040625414885\n",
      "('Tue', 'Fri') 0.07914483267632555\n",
      "('Wed', 'Mon') 0.01898137947321865\n",
      "('Wed', 'Tue') 0.07770409094755226\n",
      "('Wed', 'Thu') 0.029153147497669618\n",
      "('Wed', 'Fri') 0.161875592792311\n",
      "('Thu', 'Mon') 0.1053059470842489\n",
      "('Thu', 'Tue') 0.09927040625414907\n",
      "('Thu', 'Wed') 0.029153147497669507\n",
      "('Thu', 'Fri') 0.5654628464067637\n",
      "('Fri', 'Mon') 0.027603872361820048\n",
      "('Fri', 'Tue') 0.07914483267632555\n",
      "('Fri', 'Wed') 0.161875592792311\n",
      "('Fri', 'Thu') 0.5654628464067637\n"
     ]
    }
   ],
   "source": [
    "for p in weekday_pairs:\n",
    "    x=unexcused_by_week_filled[[p[0]]]\n",
    "    y=unexcused_by_week_filled[p[1]]\n",
    "    reg=LinearRegression().fit(x,y)\n",
    "    print(p, reg.score(x,y))"
   ]
  },
  {
   "cell_type": "markdown",
   "id": "877225e7",
   "metadata": {},
   "source": [
    "Funnily enough, there seems to be little relationship between absences on most days of the week. That is, there does not seem to be a strong linear relationship between absences on e.g. Monday and Tuesday of a given week. It is somewhat funny that there is such a relationship between absences on Thursdays Fridays. "
   ]
  },
  {
   "cell_type": "code",
   "execution_count": null,
   "id": "73457ffe",
   "metadata": {},
   "outputs": [],
   "source": []
  }
 ],
 "metadata": {
  "kernelspec": {
   "display_name": "Python 3 (ipykernel)",
   "language": "python",
   "name": "python3"
  },
  "language_info": {
   "codemirror_mode": {
    "name": "ipython",
    "version": 3
   },
   "file_extension": ".py",
   "mimetype": "text/x-python",
   "name": "python",
   "nbconvert_exporter": "python",
   "pygments_lexer": "ipython3",
   "version": "3.11.5"
  }
 },
 "nbformat": 4,
 "nbformat_minor": 5
}
