{
 "cells": [
  {
   "cell_type": "code",
   "execution_count": 1,
   "id": "98041fdf",
   "metadata": {
    "executionInfo": {
     "elapsed": 2399,
     "status": "ok",
     "timestamp": 1709328673424,
     "user": {
      "displayName": "Shehzad Ahmed",
      "userId": "10882598097768868404"
     },
     "user_tz": 300
    },
    "id": "98041fdf"
   },
   "outputs": [],
   "source": [
    "import math\n",
    "from matplotlib import pyplot as plt\n",
    "import numpy as np\n",
    "import pandas as pd\n",
    "from sklearn.linear_model import LinearRegression"
   ]
  },
  {
   "cell_type": "markdown",
   "id": "fw-IoRARo0pu",
   "metadata": {
    "id": "fw-IoRARo0pu"
   },
   "source": [
    "## Reading and Cleaning the Data"
   ]
  },
  {
   "cell_type": "markdown",
   "id": "sCDMzEjBpBtH",
   "metadata": {
    "id": "sCDMzEjBpBtH"
   },
   "source": [
    "Read the csv and take a look at the head of the data."
   ]
  },
  {
   "cell_type": "code",
   "execution_count": 2,
   "id": "ad61cfb2",
   "metadata": {
    "colab": {
     "base_uri": "https://localhost:8080/",
     "height": 672
    },
    "executionInfo": {
     "elapsed": 337,
     "status": "ok",
     "timestamp": 1709328697301,
     "user": {
      "displayName": "Shehzad Ahmed",
      "userId": "10882598097768868404"
     },
     "user_tz": 300
    },
    "id": "ad61cfb2",
    "outputId": "7e8e29c6-4dbf-493b-edec-2f681cf4775e"
   },
   "outputs": [
    {
     "data": {
      "text/html": [
       "<div>\n",
       "<style scoped>\n",
       "    .dataframe tbody tr th:only-of-type {\n",
       "        vertical-align: middle;\n",
       "    }\n",
       "\n",
       "    .dataframe tbody tr th {\n",
       "        vertical-align: top;\n",
       "    }\n",
       "\n",
       "    .dataframe thead th {\n",
       "        text-align: right;\n",
       "    }\n",
       "</style>\n",
       "<table border=\"1\" class=\"dataframe\">\n",
       "  <thead>\n",
       "    <tr style=\"text-align: right;\">\n",
       "      <th></th>\n",
       "      <th>Timestamp</th>\n",
       "      <th>1. I am happy.</th>\n",
       "      <th>2. I am preoccupied with more than one person I help.</th>\n",
       "      <th>3. I get satisfaction from being able to help people.</th>\n",
       "      <th>4.I feel connected to others.</th>\n",
       "      <th>5. I jump or am startled by unexpected sounds.</th>\n",
       "      <th>6.I feel invigorated after working with those I help.</th>\n",
       "      <th>7. I find it difficult to separate my personal life from my life as a helper.</th>\n",
       "      <th>8. I am not as productive at work because I am losing sleep over traumatic experiences of a person I help.</th>\n",
       "      <th>9. I think that I might have been affected by the traumatic stress of those I help.</th>\n",
       "      <th>...</th>\n",
       "      <th>This school cares about student wellbeing.</th>\n",
       "      <th>Teachers and students generally have good relationships in this school.</th>\n",
       "      <th>Staff generally have good relationships with each other in this school.</th>\n",
       "      <th>What do you love about your role?</th>\n",
       "      <th>How do you cope with stress?</th>\n",
       "      <th>How do you feel about the supports in place for staff at Tri-County?</th>\n",
       "      <th>Do you take an uninterrupted lunch everyday?</th>\n",
       "      <th>Do you work outside of your scheduled hours?</th>\n",
       "      <th>What could be improved, if anything, to make you feel more supported in your role?</th>\n",
       "      <th>Any relevant information regarding staff wellness and support can be added here:</th>\n",
       "    </tr>\n",
       "  </thead>\n",
       "  <tbody>\n",
       "    <tr>\n",
       "      <th>0</th>\n",
       "      <td>12/6/2023 21:20:54</td>\n",
       "      <td>Sometimes</td>\n",
       "      <td>Very Often</td>\n",
       "      <td>Very Often</td>\n",
       "      <td>Rarely</td>\n",
       "      <td>Never</td>\n",
       "      <td>Very Often</td>\n",
       "      <td>Very Often</td>\n",
       "      <td>Rarely</td>\n",
       "      <td>Sometimes</td>\n",
       "      <td>...</td>\n",
       "      <td>Agree</td>\n",
       "      <td>Agree</td>\n",
       "      <td>Agree</td>\n",
       "      <td>Helping others, ah ha moments, growing skills</td>\n",
       "      <td>Not well</td>\n",
       "      <td>Not aware of</td>\n",
       "      <td>No</td>\n",
       "      <td>Yes</td>\n",
       "      <td>Time for access to admin and other available s...</td>\n",
       "      <td>Open to whatever relevant initiatives that can...</td>\n",
       "    </tr>\n",
       "    <tr>\n",
       "      <th>1</th>\n",
       "      <td>12/6/2023 21:40:08</td>\n",
       "      <td>Sometimes</td>\n",
       "      <td>Often</td>\n",
       "      <td>Often</td>\n",
       "      <td>Very Often</td>\n",
       "      <td>Sometimes</td>\n",
       "      <td>NaN</td>\n",
       "      <td>Sometimes</td>\n",
       "      <td>Sometimes</td>\n",
       "      <td>Rarely</td>\n",
       "      <td>...</td>\n",
       "      <td>Agree</td>\n",
       "      <td>Strongly agree</td>\n",
       "      <td>Agree</td>\n",
       "      <td>Helping students</td>\n",
       "      <td>Exercise</td>\n",
       "      <td>Not much available</td>\n",
       "      <td>No</td>\n",
       "      <td>Yes</td>\n",
       "      <td>NaN</td>\n",
       "      <td>NaN</td>\n",
       "    </tr>\n",
       "    <tr>\n",
       "      <th>2</th>\n",
       "      <td>12/6/2023 22:48:52</td>\n",
       "      <td>Often</td>\n",
       "      <td>Sometimes</td>\n",
       "      <td>Sometimes</td>\n",
       "      <td>Sometimes</td>\n",
       "      <td>Very Often</td>\n",
       "      <td>Sometimes</td>\n",
       "      <td>Sometimes</td>\n",
       "      <td>Sometimes</td>\n",
       "      <td>Often</td>\n",
       "      <td>...</td>\n",
       "      <td>Disagree</td>\n",
       "      <td>Disagree</td>\n",
       "      <td>Agree</td>\n",
       "      <td>NaN</td>\n",
       "      <td>NaN</td>\n",
       "      <td>Supports?</td>\n",
       "      <td>No</td>\n",
       "      <td>Yes</td>\n",
       "      <td>Administrators who actually trust that I am a ...</td>\n",
       "      <td>NaN</td>\n",
       "    </tr>\n",
       "    <tr>\n",
       "      <th>3</th>\n",
       "      <td>12/6/2023 22:54:57</td>\n",
       "      <td>Often</td>\n",
       "      <td>Often</td>\n",
       "      <td>Sometimes</td>\n",
       "      <td>Often</td>\n",
       "      <td>Sometimes</td>\n",
       "      <td>Sometimes</td>\n",
       "      <td>Sometimes</td>\n",
       "      <td>Sometimes</td>\n",
       "      <td>Sometimes</td>\n",
       "      <td>...</td>\n",
       "      <td>Agree</td>\n",
       "      <td>Agree</td>\n",
       "      <td>Agree</td>\n",
       "      <td>Teaching and watching students grow</td>\n",
       "      <td>Exercise, weekends</td>\n",
       "      <td>I’m not aware of any of the supports currently...</td>\n",
       "      <td>No</td>\n",
       "      <td>Yes, often</td>\n",
       "      <td>I’m not sure. What do other high schools do?</td>\n",
       "      <td>Our work is very intense. The expectations are...</td>\n",
       "    </tr>\n",
       "    <tr>\n",
       "      <th>4</th>\n",
       "      <td>12/7/2023 6:10:16</td>\n",
       "      <td>Often</td>\n",
       "      <td>Rarely</td>\n",
       "      <td>Sometimes</td>\n",
       "      <td>Sometimes</td>\n",
       "      <td>Rarely</td>\n",
       "      <td>Sometimes</td>\n",
       "      <td>Sometimes</td>\n",
       "      <td>Sometimes</td>\n",
       "      <td>Sometimes</td>\n",
       "      <td>...</td>\n",
       "      <td>Agree</td>\n",
       "      <td>Agree</td>\n",
       "      <td>Agree</td>\n",
       "      <td>Relationships with staff and students</td>\n",
       "      <td>Exercise</td>\n",
       "      <td>Meh</td>\n",
       "      <td>Yes</td>\n",
       "      <td>Yes</td>\n",
       "      <td>NaN</td>\n",
       "      <td>NaN</td>\n",
       "    </tr>\n",
       "  </tbody>\n",
       "</table>\n",
       "<p>5 rows × 51 columns</p>\n",
       "</div>"
      ],
      "text/plain": [
       "            Timestamp 1. I am happy.   \\\n",
       "0  12/6/2023 21:20:54       Sometimes   \n",
       "1  12/6/2023 21:40:08       Sometimes   \n",
       "2  12/6/2023 22:48:52           Often   \n",
       "3  12/6/2023 22:54:57           Often   \n",
       "4   12/7/2023 6:10:16           Often   \n",
       "\n",
       "  2. I am preoccupied with more than one person I help.   \\\n",
       "0                                         Very Often       \n",
       "1                                              Often       \n",
       "2                                          Sometimes       \n",
       "3                                              Often       \n",
       "4                                             Rarely       \n",
       "\n",
       "  3. I get satisfaction from being able to help people.  \\\n",
       "0                                         Very Often      \n",
       "1                                              Often      \n",
       "2                                          Sometimes      \n",
       "3                                          Sometimes      \n",
       "4                                          Sometimes      \n",
       "\n",
       "  4.I feel connected to others.  \\\n",
       "0                        Rarely   \n",
       "1                    Very Often   \n",
       "2                     Sometimes   \n",
       "3                         Often   \n",
       "4                     Sometimes   \n",
       "\n",
       "  5. I jump or am startled by unexpected sounds.  \\\n",
       "0                                          Never   \n",
       "1                                      Sometimes   \n",
       "2                                     Very Often   \n",
       "3                                      Sometimes   \n",
       "4                                         Rarely   \n",
       "\n",
       "  6.I feel invigorated after working with those I help.  \\\n",
       "0                                         Very Often      \n",
       "1                                                NaN      \n",
       "2                                          Sometimes      \n",
       "3                                          Sometimes      \n",
       "4                                          Sometimes      \n",
       "\n",
       "  7. I find it difficult to separate my personal life from my life as a helper.   \\\n",
       "0                                         Very Often                               \n",
       "1                                          Sometimes                               \n",
       "2                                          Sometimes                               \n",
       "3                                          Sometimes                               \n",
       "4                                          Sometimes                               \n",
       "\n",
       "  8. I am not as productive at work because I am losing sleep over traumatic experiences of a person I help.  \\\n",
       "0                                             Rarely                                                           \n",
       "1                                          Sometimes                                                           \n",
       "2                                          Sometimes                                                           \n",
       "3                                          Sometimes                                                           \n",
       "4                                          Sometimes                                                           \n",
       "\n",
       "  9. I think that I might have been affected by the traumatic stress of those I help.  \\\n",
       "0                                          Sometimes                                    \n",
       "1                                             Rarely                                    \n",
       "2                                              Often                                    \n",
       "3                                          Sometimes                                    \n",
       "4                                          Sometimes                                    \n",
       "\n",
       "   ... This school cares about student wellbeing.  \\\n",
       "0  ...                                      Agree   \n",
       "1  ...                                      Agree   \n",
       "2  ...                                   Disagree   \n",
       "3  ...                                      Agree   \n",
       "4  ...                                      Agree   \n",
       "\n",
       "  Teachers and students generally have good relationships in this school.  \\\n",
       "0                                              Agree                        \n",
       "1                                     Strongly agree                        \n",
       "2                                           Disagree                        \n",
       "3                                              Agree                        \n",
       "4                                              Agree                        \n",
       "\n",
       "  Staff generally have good relationships with each other in this school.  \\\n",
       "0                                              Agree                        \n",
       "1                                              Agree                        \n",
       "2                                              Agree                        \n",
       "3                                              Agree                        \n",
       "4                                              Agree                        \n",
       "\n",
       "               What do you love about your role? How do you cope with stress?  \\\n",
       "0  Helping others, ah ha moments, growing skills                     Not well   \n",
       "1                              Helping students                     Exercise    \n",
       "2                                            NaN                          NaN   \n",
       "3           Teaching and watching students grow            Exercise, weekends   \n",
       "4         Relationships with staff and students                      Exercise   \n",
       "\n",
       "  How do you feel about the supports in place for staff at Tri-County?  \\\n",
       "0                                      Not aware of                      \n",
       "1                                Not much available                      \n",
       "2                                          Supports?                     \n",
       "3  I’m not aware of any of the supports currently...                     \n",
       "4                                                Meh                     \n",
       "\n",
       "  Do you take an uninterrupted lunch everyday?  \\\n",
       "0                                           No   \n",
       "1                                           No   \n",
       "2                                           No   \n",
       "3                                           No   \n",
       "4                                          Yes   \n",
       "\n",
       "  Do you work outside of your scheduled hours?  \\\n",
       "0                                          Yes   \n",
       "1                                          Yes   \n",
       "2                                          Yes   \n",
       "3                                  Yes, often    \n",
       "4                                          Yes   \n",
       "\n",
       "  What could be improved, if anything, to make you feel more supported in your role?  \\\n",
       "0  Time for access to admin and other available s...                                   \n",
       "1                                                NaN                                   \n",
       "2  Administrators who actually trust that I am a ...                                   \n",
       "3       I’m not sure. What do other high schools do?                                   \n",
       "4                                                NaN                                   \n",
       "\n",
       "  Any relevant information regarding staff wellness and support can be added here:  \n",
       "0  Open to whatever relevant initiatives that can...                                \n",
       "1                                                NaN                                \n",
       "2                                                NaN                                \n",
       "3  Our work is very intense. The expectations are...                                \n",
       "4                                                NaN                                \n",
       "\n",
       "[5 rows x 51 columns]"
      ]
     },
     "execution_count": 2,
     "metadata": {},
     "output_type": "execute_result"
    }
   ],
   "source": [
    "Survey=pd.read_csv('Wellness Survey Responses.csv')\n",
    "Survey.head()"
   ]
  },
  {
   "cell_type": "markdown",
   "id": "Ho270Au4pW5w",
   "metadata": {
    "id": "Ho270Au4pW5w"
   },
   "source": [
    "Several of the questions from this survey come from the PROQOL (professional quality of life) survey, and my goal here is to translate the responses into numerical values so they may be scored according to the documentation. We're looking at just the columns to check which columns that survey occupies, and whether there is other data."
   ]
  },
  {
   "cell_type": "code",
   "execution_count": 3,
   "id": "66fdcfbc",
   "metadata": {
    "colab": {
     "base_uri": "https://localhost:8080/"
    },
    "executionInfo": {
     "elapsed": 231,
     "status": "ok",
     "timestamp": 1709328700977,
     "user": {
      "displayName": "Shehzad Ahmed",
      "userId": "10882598097768868404"
     },
     "user_tz": 300
    },
    "id": "66fdcfbc",
    "outputId": "509cf758-f5d1-46cf-b672-f5439e45c095"
   },
   "outputs": [
    {
     "data": {
      "text/plain": [
       "Index(['Timestamp', '1. I am happy. ',\n",
       "       '2. I am preoccupied with more than one person I help. ',\n",
       "       '3. I get satisfaction from being able to help people.',\n",
       "       '4.I feel connected to others.',\n",
       "       '5. I jump or am startled by unexpected sounds.',\n",
       "       '6.I feel invigorated after working with those I help.',\n",
       "       '7. I find it difficult to separate my personal life from my life as a helper. ',\n",
       "       '8. I am not as productive at work because I am losing sleep over traumatic experiences of a person I help.',\n",
       "       '9. I think that I might have been affected by the traumatic stress of those I help.',\n",
       "       '10. I feel trapped by my job as a helper. ',\n",
       "       '11.Because of my helping, I have felt \"on edge\" about various things.',\n",
       "       '12.I like my work as a helper. ',\n",
       "       '13. I feel depressed because of the traumatic experiences of the people I help. ',\n",
       "       ' 14.I feel as though I am experiencing the trauma of someone I have helped.',\n",
       "       '15. I have beliefs that sustain me. ',\n",
       "       '16. I am pleased with how I am able to keep up with helping techniques and protocols.',\n",
       "       '17. I am the person I always wanted to be. ',\n",
       "       ' 18.My work makes me feel satisfied. ',\n",
       "       '19. I feel worn out because of my work as a helper.',\n",
       "       '20.I have happy thoughts and feelings about those I help and how I could help them.',\n",
       "       '21.I feel overwhelmed because my work load seems endless.',\n",
       "       '22. I believe I can make a difference through my work. ',\n",
       "       '23. I avoid certain activities or situations because they remind me of frightening experiences of the people I help.',\n",
       "       '24. I am proud of what I can do to help. ',\n",
       "       ' 25. As a result of my helping, I have intrusive, frightening thoughts. ',\n",
       "       '26. I feel \"bogged down\" by the system. ',\n",
       "       '27. I have thoughts that I am a \"success\" as a helper. ',\n",
       "       '28.  I can't recall important parts of my work with trauma victims.',\n",
       "       '29. I am a very caring person.',\n",
       "       ' 30. I am happy that I chose to do this work.',\n",
       "       'How satisfied are you with your job as a whole, taking everything into consideration?',\n",
       "       'In general, how stressful do you find your job? ',\n",
       "       'How confident would you feel in helping a colleague who appears stressed or down? ',\n",
       "       'How confident would you feel in helping a student who appears stressed or down? ',\n",
       "       'In the past academic year, how often have you provided emotional support to a distressed colleague? ',\n",
       "       'In the past academic year, how often have you provided emotional support to a distressed student? ',\n",
       "       'If a work related problem was making you stressed or down, who would you talk to about it at school? ',\n",
       "       'In the past academic year, how often have you talked to a colleague because you were feeling stressed or down? ',\n",
       "       'In the past academic year, how often have you wanted to talk to a colleague because you were feeling stressed or down but have not felt able to? ',\n",
       "       'This school cares about staff wellbeing',\n",
       "       'This school cares about student wellbeing.',\n",
       "       'Teachers and students generally have good relationships in this school.',\n",
       "       'Staff generally have good relationships with each other in this school.',\n",
       "       'What do you love about your role?', 'How do you cope with stress?',\n",
       "       'How do you feel about the supports in place for staff at Tri-County?',\n",
       "       'Do you take an uninterrupted lunch everyday?',\n",
       "       'Do you work outside of your scheduled hours?',\n",
       "       'What could be improved, if anything, to make you feel more supported in your role?',\n",
       "       'Any relevant information regarding staff wellness and support can be added here:'],\n",
       "      dtype='object')"
      ]
     },
     "execution_count": 3,
     "metadata": {},
     "output_type": "execute_result"
    }
   ],
   "source": [
    "Survey.columns"
   ]
  },
  {
   "cell_type": "markdown",
   "id": "En4W33pwqBNr",
   "metadata": {
    "id": "En4W33pwqBNr"
   },
   "source": [
    "I don't need the timestamp column, so I'm going to drop that for now."
   ]
  },
  {
   "cell_type": "code",
   "execution_count": 4,
   "id": "f3993300",
   "metadata": {
    "executionInfo": {
     "elapsed": 155,
     "status": "ok",
     "timestamp": 1709328703495,
     "user": {
      "displayName": "Shehzad Ahmed",
      "userId": "10882598097768868404"
     },
     "user_tz": 300
    },
    "id": "f3993300"
   },
   "outputs": [],
   "source": [
    "Survey.drop(columns=['Timestamp'], inplace=True)"
   ]
  },
  {
   "cell_type": "markdown",
   "id": "EXev5BIRqQ1O",
   "metadata": {
    "id": "EXev5BIRqQ1O"
   },
   "source": [
    "The PROQOL documentation specifies values for each response in the survey, and it also specifies that the scores get reveresed for some of the responses. So here we map the correct scores to the correct responses in the dataframe."
   ]
  },
  {
   "cell_type": "code",
   "execution_count": 5,
   "id": "58cd5648",
   "metadata": {
    "executionInfo": {
     "elapsed": 3,
     "status": "ok",
     "timestamp": 1709328704617,
     "user": {
      "displayName": "Shehzad Ahmed",
      "userId": "10882598097768868404"
     },
     "user_tz": 300
    },
    "id": "58cd5648"
   },
   "outputs": [],
   "source": [
    "# mapping responses to numerical values\n",
    "words_score={'Never' : 1, 'Rarely' : 2, 'Sometimes' : 3, 'Often' : 4, 'Very Often' : 5}\n",
    "Survey.replace(words_score, inplace=True)\n",
    "reversals={1 : 5, 2 : 4, 4: 2, 5 : 1}\n",
    "# reversing the values of certain columns as specified by PROQOL documentation\n",
    "reversal_columns=Survey.columns[[0,3,14,16,28]]\n",
    "Survey[reversal_columns]=Survey[reversal_columns].replace(reversals)"
   ]
  },
  {
   "cell_type": "markdown",
   "id": "I6RWPNb2rMH8",
   "metadata": {
    "id": "I6RWPNb2rMH8"
   },
   "source": [
    "The questions in the PROQOL survey are broken up into three categories: compassion satisfaction, burnout, and secondary traumatic stress. Scores are assigned to each category by summing up the values of responses to the corresponding questions. So here, we're obtaining the compassion satisfaction, burnout, and secondary traumatic stress scores for each respondent."
   ]
  },
  {
   "cell_type": "code",
   "execution_count": 6,
   "id": "73edd898",
   "metadata": {
    "executionInfo": {
     "elapsed": 238,
     "status": "ok",
     "timestamp": 1709328707843,
     "user": {
      "displayName": "Shehzad Ahmed",
      "userId": "10882598097768868404"
     },
     "user_tz": 300
    },
    "id": "73edd898"
   },
   "outputs": [],
   "source": [
    "# Split the columns the correspond to the PROQOL into their distinct categories\n",
    "proqol_cols=Survey.columns[0:30]\n",
    "compassion=proqol_cols[[2, 5, 11, 15, 17, 19, 21, 23, 26, 29]]\n",
    "burnout=proqol_cols[[0, 3, 7, 9, 14, 16, 18, 20, 25, 28]]\n",
    "sts=proqol_cols[[1, 4, 6, 8, 10, 12, 13, 22, 24, 27]]"
   ]
  },
  {
   "cell_type": "code",
   "execution_count": 7,
   "id": "4956aeda",
   "metadata": {
    "executionInfo": {
     "elapsed": 163,
     "status": "ok",
     "timestamp": 1709328709370,
     "user": {
      "displayName": "Shehzad Ahmed",
      "userId": "10882598097768868404"
     },
     "user_tz": 300
    },
    "id": "4956aeda"
   },
   "outputs": [],
   "source": [
    "# create lists of scores for each category\n",
    "sts_score, compassion_score, burnout_score=[], [], []\n",
    "for n in range(0,len(Survey.index)):\n",
    "    s_score=Survey.loc[n][sts].sum()\n",
    "    sts_score.append(s_score)\n",
    "\n",
    "for n in range(0,len(Survey.index)):\n",
    "    c_score=Survey.loc[n][compassion].sum()\n",
    "    compassion_score.append(c_score)\n",
    "\n",
    "for n in range(0,len(Survey.index)):\n",
    "    b_score=Survey.loc[n][burnout].sum()\n",
    "    burnout_score.append(b_score)"
   ]
  },
  {
   "cell_type": "code",
   "execution_count": 8,
   "id": "9b6ff8a0",
   "metadata": {
    "colab": {
     "base_uri": "https://localhost:8080/",
     "height": 896
    },
    "executionInfo": {
     "elapsed": 5,
     "status": "ok",
     "timestamp": 1709328710050,
     "user": {
      "displayName": "Shehzad Ahmed",
      "userId": "10882598097768868404"
     },
     "user_tz": 300
    },
    "id": "9b6ff8a0",
    "outputId": "f8764d43-041d-438a-e318-6da7955a74e8"
   },
   "outputs": [
    {
     "data": {
      "text/html": [
       "<div>\n",
       "<style scoped>\n",
       "    .dataframe tbody tr th:only-of-type {\n",
       "        vertical-align: middle;\n",
       "    }\n",
       "\n",
       "    .dataframe tbody tr th {\n",
       "        vertical-align: top;\n",
       "    }\n",
       "\n",
       "    .dataframe thead th {\n",
       "        text-align: right;\n",
       "    }\n",
       "</style>\n",
       "<table border=\"1\" class=\"dataframe\">\n",
       "  <thead>\n",
       "    <tr style=\"text-align: right;\">\n",
       "      <th></th>\n",
       "      <th>Compassion Satisfaction</th>\n",
       "      <th>Burnout</th>\n",
       "      <th>Secondary Traumatic Stress</th>\n",
       "    </tr>\n",
       "  </thead>\n",
       "  <tbody>\n",
       "    <tr>\n",
       "      <th>0</th>\n",
       "      <td>47.0</td>\n",
       "      <td>31.0</td>\n",
       "      <td>24.0</td>\n",
       "    </tr>\n",
       "    <tr>\n",
       "      <th>1</th>\n",
       "      <td>37.0</td>\n",
       "      <td>27.0</td>\n",
       "      <td>24.0</td>\n",
       "    </tr>\n",
       "    <tr>\n",
       "      <th>2</th>\n",
       "      <td>22.0</td>\n",
       "      <td>34.0</td>\n",
       "      <td>26.0</td>\n",
       "    </tr>\n",
       "    <tr>\n",
       "      <th>3</th>\n",
       "      <td>30.0</td>\n",
       "      <td>30.0</td>\n",
       "      <td>26.0</td>\n",
       "    </tr>\n",
       "    <tr>\n",
       "      <th>4</th>\n",
       "      <td>32.0</td>\n",
       "      <td>35.0</td>\n",
       "      <td>23.0</td>\n",
       "    </tr>\n",
       "    <tr>\n",
       "      <th>5</th>\n",
       "      <td>28.0</td>\n",
       "      <td>35.0</td>\n",
       "      <td>28.0</td>\n",
       "    </tr>\n",
       "    <tr>\n",
       "      <th>6</th>\n",
       "      <td>36.0</td>\n",
       "      <td>21.0</td>\n",
       "      <td>17.0</td>\n",
       "    </tr>\n",
       "    <tr>\n",
       "      <th>7</th>\n",
       "      <td>41.0</td>\n",
       "      <td>24.0</td>\n",
       "      <td>23.0</td>\n",
       "    </tr>\n",
       "    <tr>\n",
       "      <th>8</th>\n",
       "      <td>38.0</td>\n",
       "      <td>16.0</td>\n",
       "      <td>14.0</td>\n",
       "    </tr>\n",
       "    <tr>\n",
       "      <th>9</th>\n",
       "      <td>38.0</td>\n",
       "      <td>22.0</td>\n",
       "      <td>13.0</td>\n",
       "    </tr>\n",
       "    <tr>\n",
       "      <th>10</th>\n",
       "      <td>29.0</td>\n",
       "      <td>37.0</td>\n",
       "      <td>40.0</td>\n",
       "    </tr>\n",
       "    <tr>\n",
       "      <th>11</th>\n",
       "      <td>32.0</td>\n",
       "      <td>28.0</td>\n",
       "      <td>24.0</td>\n",
       "    </tr>\n",
       "    <tr>\n",
       "      <th>12</th>\n",
       "      <td>46.0</td>\n",
       "      <td>29.0</td>\n",
       "      <td>27.0</td>\n",
       "    </tr>\n",
       "    <tr>\n",
       "      <th>13</th>\n",
       "      <td>32.0</td>\n",
       "      <td>26.0</td>\n",
       "      <td>17.0</td>\n",
       "    </tr>\n",
       "    <tr>\n",
       "      <th>14</th>\n",
       "      <td>33.0</td>\n",
       "      <td>30.0</td>\n",
       "      <td>29.0</td>\n",
       "    </tr>\n",
       "    <tr>\n",
       "      <th>15</th>\n",
       "      <td>39.0</td>\n",
       "      <td>24.0</td>\n",
       "      <td>18.0</td>\n",
       "    </tr>\n",
       "    <tr>\n",
       "      <th>16</th>\n",
       "      <td>31.0</td>\n",
       "      <td>27.0</td>\n",
       "      <td>22.0</td>\n",
       "    </tr>\n",
       "    <tr>\n",
       "      <th>17</th>\n",
       "      <td>37.0</td>\n",
       "      <td>17.0</td>\n",
       "      <td>17.0</td>\n",
       "    </tr>\n",
       "    <tr>\n",
       "      <th>18</th>\n",
       "      <td>40.0</td>\n",
       "      <td>29.0</td>\n",
       "      <td>33.0</td>\n",
       "    </tr>\n",
       "    <tr>\n",
       "      <th>19</th>\n",
       "      <td>32.0</td>\n",
       "      <td>26.0</td>\n",
       "      <td>22.0</td>\n",
       "    </tr>\n",
       "    <tr>\n",
       "      <th>20</th>\n",
       "      <td>31.0</td>\n",
       "      <td>34.0</td>\n",
       "      <td>28.0</td>\n",
       "    </tr>\n",
       "    <tr>\n",
       "      <th>21</th>\n",
       "      <td>31.0</td>\n",
       "      <td>38.0</td>\n",
       "      <td>32.0</td>\n",
       "    </tr>\n",
       "    <tr>\n",
       "      <th>22</th>\n",
       "      <td>36.0</td>\n",
       "      <td>30.0</td>\n",
       "      <td>37.0</td>\n",
       "    </tr>\n",
       "    <tr>\n",
       "      <th>23</th>\n",
       "      <td>40.0</td>\n",
       "      <td>23.0</td>\n",
       "      <td>17.0</td>\n",
       "    </tr>\n",
       "    <tr>\n",
       "      <th>24</th>\n",
       "      <td>44.0</td>\n",
       "      <td>24.0</td>\n",
       "      <td>22.0</td>\n",
       "    </tr>\n",
       "    <tr>\n",
       "      <th>25</th>\n",
       "      <td>36.0</td>\n",
       "      <td>31.0</td>\n",
       "      <td>28.0</td>\n",
       "    </tr>\n",
       "    <tr>\n",
       "      <th>26</th>\n",
       "      <td>39.0</td>\n",
       "      <td>29.0</td>\n",
       "      <td>32.0</td>\n",
       "    </tr>\n",
       "  </tbody>\n",
       "</table>\n",
       "</div>"
      ],
      "text/plain": [
       "    Compassion Satisfaction  Burnout  Secondary Traumatic Stress\n",
       "0                      47.0     31.0                        24.0\n",
       "1                      37.0     27.0                        24.0\n",
       "2                      22.0     34.0                        26.0\n",
       "3                      30.0     30.0                        26.0\n",
       "4                      32.0     35.0                        23.0\n",
       "5                      28.0     35.0                        28.0\n",
       "6                      36.0     21.0                        17.0\n",
       "7                      41.0     24.0                        23.0\n",
       "8                      38.0     16.0                        14.0\n",
       "9                      38.0     22.0                        13.0\n",
       "10                     29.0     37.0                        40.0\n",
       "11                     32.0     28.0                        24.0\n",
       "12                     46.0     29.0                        27.0\n",
       "13                     32.0     26.0                        17.0\n",
       "14                     33.0     30.0                        29.0\n",
       "15                     39.0     24.0                        18.0\n",
       "16                     31.0     27.0                        22.0\n",
       "17                     37.0     17.0                        17.0\n",
       "18                     40.0     29.0                        33.0\n",
       "19                     32.0     26.0                        22.0\n",
       "20                     31.0     34.0                        28.0\n",
       "21                     31.0     38.0                        32.0\n",
       "22                     36.0     30.0                        37.0\n",
       "23                     40.0     23.0                        17.0\n",
       "24                     44.0     24.0                        22.0\n",
       "25                     36.0     31.0                        28.0\n",
       "26                     39.0     29.0                        32.0"
      ]
     },
     "execution_count": 8,
     "metadata": {},
     "output_type": "execute_result"
    }
   ],
   "source": [
    "# create a dataframe from the composite score lists\n",
    "score_dict={'Compassion Satisfaction' : compassion_score, 'Burnout' : burnout_score, 'Secondary Traumatic Stress' : sts_score}\n",
    "score_summary=pd.DataFrame(score_dict)\n",
    "score_summary"
   ]
  },
  {
   "cell_type": "markdown",
   "id": "yElRLGH58EVA",
   "metadata": {
    "id": "yElRLGH58EVA"
   },
   "source": [
    "We're now going to append this composite score data frame to the data frame consisting of the PROQOL survey columns, and write that to a csv."
   ]
  },
  {
   "cell_type": "code",
   "execution_count": 9,
   "id": "P-mHOEQB8qSL",
   "metadata": {
    "executionInfo": {
     "elapsed": 131,
     "status": "ok",
     "timestamp": 1709329227182,
     "user": {
      "displayName": "Shehzad Ahmed",
      "userId": "10882598097768868404"
     },
     "user_tz": 300
    },
    "id": "P-mHOEQB8qSL"
   },
   "outputs": [],
   "source": [
    "proqol_composite=Survey[proqol_cols].join(score_summary)"
   ]
  },
  {
   "cell_type": "markdown",
   "id": "5M1q-QXE9jVC",
   "metadata": {
    "id": "5M1q-QXE9jVC"
   },
   "source": [
    "## Data Visualization and Analysis"
   ]
  },
  {
   "cell_type": "markdown",
   "id": "1FlfIFv39mE_",
   "metadata": {
    "id": "1FlfIFv39mE_"
   },
   "source": [
    "Now let's go ahead and get an idea of how these composite scores are distributed."
   ]
  },
  {
   "cell_type": "code",
   "execution_count": 10,
   "id": "d3d5735c",
   "metadata": {
    "colab": {
     "base_uri": "https://localhost:8080/",
     "height": 489
    },
    "executionInfo": {
     "elapsed": 459,
     "status": "ok",
     "timestamp": 1709328813318,
     "user": {
      "displayName": "Shehzad Ahmed",
      "userId": "10882598097768868404"
     },
     "user_tz": 300
    },
    "id": "d3d5735c",
    "outputId": "f9259711-5461-4f43-f25e-f4e9e7c1ef24"
   },
   "outputs": [
    {
     "data": {
      "text/plain": [
       "Text(0.5, 0, 'Compassion Satisfaction Score')"
      ]
     },
     "execution_count": 10,
     "metadata": {},
     "output_type": "execute_result"
    },
    {
     "data": {
      "image/png": "[encoded data removed]",
      "text/plain": [
       "<Figure size 640x480 with 1 Axes>"
      ]
     },
     "metadata": {},
     "output_type": "display_data"
    }
   ],
   "source": [
    "score_summary['Compassion Satisfaction'].plot(kind='hist', bins=10, title='Compassion Satisfaction')\n",
    "plt.xlabel('Compassion Satisfaction Score')"
   ]
  },
  {
   "cell_type": "code",
   "execution_count": 11,
   "id": "f3934cbe",
   "metadata": {
    "colab": {
     "base_uri": "https://localhost:8080/",
     "height": 489
    },
    "executionInfo": {
     "elapsed": 425,
     "status": "ok",
     "timestamp": 1709328818538,
     "user": {
      "displayName": "Shehzad Ahmed",
      "userId": "10882598097768868404"
     },
     "user_tz": 300
    },
    "id": "f3934cbe",
    "outputId": "c7816933-ac98-41f4-d3d2-36b050e83b55"
   },
   "outputs": [
    {
     "data": {
      "text/plain": [
       "Text(0.5, 0, 'Burnout Score')"
      ]
     },
     "execution_count": 11,
     "metadata": {},
     "output_type": "execute_result"
    },
    {
     "data": {
      "image/png": "[encoded data removed]",
      "text/plain": [
       "<Figure size 640x480 with 1 Axes>"
      ]
     },
     "metadata": {},
     "output_type": "display_data"
    }
   ],
   "source": [
    "score_summary['Burnout'].plot(kind='hist', bins=10, title='Burnout')\n",
    "plt.xlabel('Burnout Score')"
   ]
  },
  {
   "cell_type": "code",
   "execution_count": 12,
   "id": "89f55065",
   "metadata": {
    "colab": {
     "base_uri": "https://localhost:8080/",
     "height": 489
    },
    "executionInfo": {
     "elapsed": 347,
     "status": "ok",
     "timestamp": 1709328820497,
     "user": {
      "displayName": "Shehzad Ahmed",
      "userId": "10882598097768868404"
     },
     "user_tz": 300
    },
    "id": "89f55065",
    "outputId": "ce4cca17-0aea-4306-d797-7e1a489eecad"
   },
   "outputs": [
    {
     "data": {
      "text/plain": [
       "Text(0.5, 0, 'STS Score')"
      ]
     },
     "execution_count": 12,
     "metadata": {},
     "output_type": "execute_result"
    },
    {
     "data": {
      "image/png": "[encoded data removed]",
      "text/plain": [
       "<Figure size 640x480 with 1 Axes>"
      ]
     },
     "metadata": {},
     "output_type": "display_data"
    }
   ],
   "source": [
    "score_summary['Secondary Traumatic Stress'].plot(kind='hist', bins=10, title='Secondary Traumatic Stress')\n",
    "plt.xlabel('STS Score')"
   ]
  },
  {
   "cell_type": "markdown",
   "id": "872ff997",
   "metadata": {},
   "source": [
    "According to the PROQOL documentation, the scores are broken down into low (22 or less), moderate (23 to 41), and high (42 and above) levels of compassion satisfaction, burnout, and secondary truamatic stress. It's also worth noting that these scores are relative to other people who work in helping professions. So let's go ahead and bin these scores a bit more appopriately."
   ]
  },
  {
   "cell_type": "code",
   "execution_count": 13,
   "id": "054fae3d",
   "metadata": {},
   "outputs": [],
   "source": [
    "# Create bins and counts for each score\n",
    "bins=[0,23,42,50]\n",
    "c_count=[]\n",
    "b_count=[]\n",
    "s_count=[]\n",
    "\n",
    "# For each bin, count the number of observations in that bin range and append to the apropriate list.\n",
    "for n in range(0,len(bins)-1):\n",
    "    bcount=score_summary['Burnout'][(score_summary['Burnout']>bins[n]) & (score_summary['Burnout']<bins[n+1])].count()\n",
    "    ccount=score_summary['Compassion Satisfaction'][(score_summary['Compassion Satisfaction']>bins[n]) & (score_summary['Compassion Satisfaction']<bins[n+1])].count()\n",
    "    scount=score_summary['Secondary Traumatic Stress'][(score_summary['Secondary Traumatic Stress']>bins[n]) & (score_summary['Secondary Traumatic Stress']<bins[n+1])].count()\n",
    "    \n",
    "    c_count.append(ccount)\n",
    "    b_count.append(bcount)\n",
    "    s_count.append(scount)"
   ]
  },
  {
   "cell_type": "code",
   "execution_count": 14,
   "id": "b38b622d",
   "metadata": {},
   "outputs": [],
   "source": [
    "# Turn lists into Series in order to more easily create a bar chart.\n",
    "score_label=[\"Low\", \"Moderate\", \"High\"]\n",
    "c_series=pd.Series(data=c_count, index=score_label)\n",
    "b_series=pd.Series(data=b_count, index=score_label)\n",
    "s_series=pd.Series(data=s_count, index=score_label)"
   ]
  },
  {
   "cell_type": "code",
   "execution_count": 15,
   "id": "08a88f18",
   "metadata": {},
   "outputs": [
    {
     "data": {
      "image/png": "[encoded data removed]",
      "text/plain": [
       "<Figure size 640x480 with 1 Axes>"
      ]
     },
     "metadata": {},
     "output_type": "display_data"
    }
   ],
   "source": [
    "# Plot series as bar chart\n",
    "c_series.plot(kind='bar')\n",
    "# Add title and axis labels\n",
    "plt.title('Compassion Satisfaction')\n",
    "plt.ylabel('Frequency')\n",
    "plt.xticks(rotation=45)\n",
    "\n",
    "# Display the plot\n",
    "plt.show()"
   ]
  },
  {
   "cell_type": "code",
   "execution_count": 16,
   "id": "36435967",
   "metadata": {},
   "outputs": [
    {
     "data": {
      "image/png": "[encoded data removed]",
      "text/plain": [
       "<Figure size 640x480 with 1 Axes>"
      ]
     },
     "metadata": {},
     "output_type": "display_data"
    }
   ],
   "source": [
    "# Plot series as bar chart\n",
    "b_series.plot(kind='bar')\n",
    "# Add title and axis labels\n",
    "plt.title('Burnout')\n",
    "plt.ylabel('Frequency')\n",
    "plt.xticks(rotation=45)\n",
    "\n",
    "# Display the plot\n",
    "plt.show()"
   ]
  },
  {
   "cell_type": "code",
   "execution_count": 17,
   "id": "c46112be",
   "metadata": {},
   "outputs": [
    {
     "data": {
      "image/png": "[encoded data removed]",
      "text/plain": [
       "<Figure size 640x480 with 1 Axes>"
      ]
     },
     "metadata": {},
     "output_type": "display_data"
    }
   ],
   "source": [
    "# Plot series as bar chart\n",
    "s_series.plot(kind='bar')\n",
    "# Add title and axis labels\n",
    "plt.title('Secondary Traumatic Stress')\n",
    "plt.ylabel('Frequency')\n",
    "plt.xticks(rotation=45)\n",
    "\n",
    "# Display the plot\n",
    "plt.show()"
   ]
  },
  {
   "cell_type": "markdown",
   "id": "c6aed061",
   "metadata": {},
   "source": [
    "One thing we can take note of is that the vast majority of respondents are experiencing moderate burnout, while a noticeable majority is experiencing moderate secondary traumatic stress. On the other hand, almost all respondents are experiencing at least moderate compassion satisfaction. Now we should dig into the relationship between these variables. One thing to note is that burnout and secondary traumatic stress are supposed to capture compassion fatigue, which suggests that burnout and secondary traumatic stress may be predictive of compassion satisfaction."
   ]
  },
  {
   "cell_type": "code",
   "execution_count": 49,
   "id": "492b1154",
   "metadata": {
    "id": "492b1154",
    "outputId": "ac062625-c421-4d89-d90c-1710aa66968e",
    "scrolled": false
   },
   "outputs": [],
   "source": [
    "''' \n",
    "Takes a one dimensional dataframe of predictors x, and values y, as well as optional parameters for \n",
    "names of x and y axes as inputs. The function then performs a simple linear regression with x and y,\n",
    "and creates a scatter plot with line of best fit.\n",
    "'''\n",
    "def scatter_lin(x, y, x_name=\"x\", y_name=\"y\"):\n",
    "    lreg=LinearRegression()\n",
    "    lreg.fit(x, y)\n",
    "    \n",
    "    # Collect standard deviations to recover correlation coefficient later.\n",
    "    s_x=np.std(x.values)\n",
    "    s_y=np.std(y)\n",
    "    # Slope and intercept of the regression line as well as the R^2\n",
    "    beta_1=lreg.coef_[0]\n",
    "    beta_0=lreg.intercept_\n",
    "    rsquare=lreg.score(x,y)\n",
    "    \n",
    "    # Create a scatter plot of the data along with the line of best fit\n",
    "    x_test=np.linspace(min(x.values),max(x.values))\n",
    "    y_pred=beta_0+x_test*beta_1\n",
    "    plt.scatter(x.values, y)\n",
    "    plt.plot(x_test, y_pred, color='black')\n",
    "    \n",
    "    # label plot appropriately and print r, intercept, and slope\n",
    "    plt.title(f'{x_name} vs {y_name}')\n",
    "    plt.xlabel(x_name)\n",
    "    plt.ylabel(y_name)\n",
    "    plt.show\n",
    "    print(f'r={(s_x/s_y)*beta_1}, beta_0={beta_0}, and beta_1={beta_1}')\n",
    "    "
   ]
  },
  {
   "cell_type": "code",
   "execution_count": 50,
   "id": "111d7103",
   "metadata": {
    "id": "111d7103",
    "outputId": "a82c2cc9-b465-43d5-cdd0-f154e581250b",
    "scrolled": false
   },
   "outputs": [
    {
     "name": "stdout",
     "output_type": "stream",
     "text": [
      "r=-0.22545407877688373, beta_0=40.150695227358135, and beta_1=-0.19165727170236746\n"
     ]
    },
    {
     "data": {
      "image/png": "[encoded data removed]",
      "text/plain": [
       "<Figure size 640x480 with 1 Axes>"
      ]
     },
     "metadata": {},
     "output_type": "display_data"
    }
   ],
   "source": [
    "x_name='Secondary Traumatic Stress'\n",
    "y_name='Compassion Satisfaction'\n",
    "scatter_lin(score_summary[[x_name]], score_summary[y_name], x_name, y_name)\n"
   ]
  },
  {
   "cell_type": "code",
   "execution_count": 51,
   "id": "b50584ec",
   "metadata": {
    "id": "111d7103",
    "outputId": "a82c2cc9-b465-43d5-cdd0-f154e581250b"
   },
   "outputs": [
    {
     "name": "stdout",
     "output_type": "stream",
     "text": [
      "r=-0.4660644158440211, beta_0=48.80963822649379, and beta_1=-0.47669779671774415\n"
     ]
    },
    {
     "data": {
      "image/png": "[encoded data removed]",
      "text/plain": [
       "<Figure size 640x480 with 1 Axes>"
      ]
     },
     "metadata": {},
     "output_type": "display_data"
    }
   ],
   "source": [
    "x_name='Burnout'\n",
    "y_name='Compassion Satisfaction'\n",
    "scatter_lin(score_summary[[x_name]], score_summary[y_name], x_name, y_name)\n"
   ]
  },
  {
   "cell_type": "code",
   "execution_count": null,
   "id": "59076faf",
   "metadata": {
    "id": "59076faf"
   },
   "outputs": [],
   "source": []
  }
 ],
 "metadata": {
  "colab": {
   "provenance": []
  },
  "kernelspec": {
   "display_name": "Python 3 (ipykernel)",
   "language": "python",
   "name": "python3"
  },
  "language_info": {
   "codemirror_mode": {
    "name": "ipython",
    "version": 3
   },
   "file_extension": ".py",
   "mimetype": "text/x-python",
   "name": "python",
   "nbconvert_exporter": "python",
   "pygments_lexer": "ipython3",
   "version": "3.11.5"
  }
 },
 "nbformat": 4,
 "nbformat_minor": 5
}
